{
 "cells": [
  {
   "cell_type": "code",
   "execution_count": 1,
   "metadata": {},
   "outputs": [],
   "source": [
    "'''EDA of the Dataset'''\n",
    "\n",
    "import pandas as pd\n",
    "import numpy as np\n",
    "import matplotlib.pyplot as plt\n",
    "import seaborn as sns\n",
    "\n",
    "from sklearn.linear_model import LinearRegression\n",
    "from sklearn.model_selection import train_test_split, GridSearchCV\n",
    "from sklearn.ensemble import GradientBoostingRegressor\n",
    "from sklearn.metrics import mean_squared_error\n"
   ]
  },
  {
   "cell_type": "markdown",
   "metadata": {},
   "source": [
    "# Load and Inspect Data"
   ]
  },
  {
   "cell_type": "code",
   "execution_count": 2,
   "metadata": {},
   "outputs": [],
   "source": [
    "#read data\n",
    "df = pd.read_csv('./data/train.csv')\n",
    "df_test = pd.read_csv('./data/test.csv')"
   ]
  },
  {
   "cell_type": "code",
   "execution_count": 3,
   "metadata": {},
   "outputs": [
    {
     "name": "stdout",
     "output_type": "stream",
     "text": [
      "The No. of datapoints is 7110\n"
     ]
    }
   ],
   "source": [
    "#inspect data\n",
    "df.head()\n",
    "df.tail()\n",
    "\n",
    "delta_ts = df.index[-1] - df.index[0]\n",
    "print('The No. of datapoints is {}'.format(delta_ts))"
   ]
  },
  {
   "cell_type": "code",
   "execution_count": 4,
   "metadata": {},
   "outputs": [
    {
     "name": "stdout",
     "output_type": "stream",
     "text": [
      "<class 'pandas.core.frame.DataFrame'>\n",
      "RangeIndex: 7111 entries, 0 to 7110\n",
      "Data columns (total 12 columns):\n",
      " #   Column                  Non-Null Count  Dtype  \n",
      "---  ------                  --------------  -----  \n",
      " 0   date_time               7111 non-null   object \n",
      " 1   deg_C                   7111 non-null   float64\n",
      " 2   relative_humidity       7111 non-null   float64\n",
      " 3   absolute_humidity       7111 non-null   float64\n",
      " 4   sensor_1                7111 non-null   float64\n",
      " 5   sensor_2                7111 non-null   float64\n",
      " 6   sensor_3                7111 non-null   float64\n",
      " 7   sensor_4                7111 non-null   float64\n",
      " 8   sensor_5                7111 non-null   float64\n",
      " 9   target_carbon_monoxide  7111 non-null   float64\n",
      " 10  target_benzene          7111 non-null   float64\n",
      " 11  target_nitrogen_oxides  7111 non-null   float64\n",
      "dtypes: float64(11), object(1)\n",
      "memory usage: 666.8+ KB\n"
     ]
    }
   ],
   "source": [
    "df.info()"
   ]
  },
  {
   "cell_type": "code",
   "execution_count": 5,
   "metadata": {},
   "outputs": [
    {
     "data": {
      "text/html": [
       "<div>\n",
       "<style scoped>\n",
       "    .dataframe tbody tr th:only-of-type {\n",
       "        vertical-align: middle;\n",
       "    }\n",
       "\n",
       "    .dataframe tbody tr th {\n",
       "        vertical-align: top;\n",
       "    }\n",
       "\n",
       "    .dataframe thead th {\n",
       "        text-align: right;\n",
       "    }\n",
       "</style>\n",
       "<table border=\"1\" class=\"dataframe\">\n",
       "  <thead>\n",
       "    <tr style=\"text-align: right;\">\n",
       "      <th></th>\n",
       "      <th>deg_C</th>\n",
       "      <th>relative_humidity</th>\n",
       "      <th>absolute_humidity</th>\n",
       "      <th>sensor_1</th>\n",
       "      <th>sensor_2</th>\n",
       "      <th>sensor_3</th>\n",
       "      <th>sensor_4</th>\n",
       "      <th>sensor_5</th>\n",
       "      <th>target_carbon_monoxide</th>\n",
       "      <th>target_benzene</th>\n",
       "      <th>target_nitrogen_oxides</th>\n",
       "    </tr>\n",
       "  </thead>\n",
       "  <tbody>\n",
       "    <tr>\n",
       "      <th>count</th>\n",
       "      <td>7111.000000</td>\n",
       "      <td>7111.000000</td>\n",
       "      <td>7111.000000</td>\n",
       "      <td>7111.000000</td>\n",
       "      <td>7111.000000</td>\n",
       "      <td>7111.000000</td>\n",
       "      <td>7111.000000</td>\n",
       "      <td>7111.000000</td>\n",
       "      <td>7111.000000</td>\n",
       "      <td>7111.000000</td>\n",
       "      <td>7111.000000</td>\n",
       "    </tr>\n",
       "    <tr>\n",
       "      <th>mean</th>\n",
       "      <td>20.878034</td>\n",
       "      <td>47.561004</td>\n",
       "      <td>1.110309</td>\n",
       "      <td>1091.572100</td>\n",
       "      <td>938.064970</td>\n",
       "      <td>883.903305</td>\n",
       "      <td>1513.238349</td>\n",
       "      <td>998.335565</td>\n",
       "      <td>2.086219</td>\n",
       "      <td>10.237083</td>\n",
       "      <td>204.066784</td>\n",
       "    </tr>\n",
       "    <tr>\n",
       "      <th>std</th>\n",
       "      <td>7.937917</td>\n",
       "      <td>17.398731</td>\n",
       "      <td>0.398950</td>\n",
       "      <td>218.537554</td>\n",
       "      <td>281.978988</td>\n",
       "      <td>310.456355</td>\n",
       "      <td>350.180310</td>\n",
       "      <td>381.537695</td>\n",
       "      <td>1.447109</td>\n",
       "      <td>7.694426</td>\n",
       "      <td>193.927723</td>\n",
       "    </tr>\n",
       "    <tr>\n",
       "      <th>min</th>\n",
       "      <td>1.300000</td>\n",
       "      <td>8.900000</td>\n",
       "      <td>0.198800</td>\n",
       "      <td>620.300000</td>\n",
       "      <td>364.000000</td>\n",
       "      <td>310.600000</td>\n",
       "      <td>552.900000</td>\n",
       "      <td>242.700000</td>\n",
       "      <td>0.100000</td>\n",
       "      <td>0.100000</td>\n",
       "      <td>1.900000</td>\n",
       "    </tr>\n",
       "    <tr>\n",
       "      <th>25%</th>\n",
       "      <td>14.900000</td>\n",
       "      <td>33.700000</td>\n",
       "      <td>0.855900</td>\n",
       "      <td>930.250000</td>\n",
       "      <td>734.900000</td>\n",
       "      <td>681.050000</td>\n",
       "      <td>1320.350000</td>\n",
       "      <td>722.850000</td>\n",
       "      <td>1.000000</td>\n",
       "      <td>4.500000</td>\n",
       "      <td>76.450000</td>\n",
       "    </tr>\n",
       "    <tr>\n",
       "      <th>50%</th>\n",
       "      <td>20.700000</td>\n",
       "      <td>47.300000</td>\n",
       "      <td>1.083500</td>\n",
       "      <td>1060.500000</td>\n",
       "      <td>914.200000</td>\n",
       "      <td>827.800000</td>\n",
       "      <td>1513.100000</td>\n",
       "      <td>928.700000</td>\n",
       "      <td>1.700000</td>\n",
       "      <td>8.500000</td>\n",
       "      <td>141.000000</td>\n",
       "    </tr>\n",
       "    <tr>\n",
       "      <th>75%</th>\n",
       "      <td>25.800000</td>\n",
       "      <td>60.800000</td>\n",
       "      <td>1.404150</td>\n",
       "      <td>1215.800000</td>\n",
       "      <td>1124.100000</td>\n",
       "      <td>1008.850000</td>\n",
       "      <td>1720.400000</td>\n",
       "      <td>1224.700000</td>\n",
       "      <td>2.800000</td>\n",
       "      <td>14.200000</td>\n",
       "      <td>260.000000</td>\n",
       "    </tr>\n",
       "    <tr>\n",
       "      <th>max</th>\n",
       "      <td>46.100000</td>\n",
       "      <td>90.800000</td>\n",
       "      <td>2.231000</td>\n",
       "      <td>2088.300000</td>\n",
       "      <td>2302.600000</td>\n",
       "      <td>2567.400000</td>\n",
       "      <td>2913.800000</td>\n",
       "      <td>2594.600000</td>\n",
       "      <td>12.500000</td>\n",
       "      <td>63.700000</td>\n",
       "      <td>1472.300000</td>\n",
       "    </tr>\n",
       "  </tbody>\n",
       "</table>\n",
       "</div>"
      ],
      "text/plain": [
       "             deg_C  relative_humidity  absolute_humidity     sensor_1  \\\n",
       "count  7111.000000        7111.000000        7111.000000  7111.000000   \n",
       "mean     20.878034          47.561004           1.110309  1091.572100   \n",
       "std       7.937917          17.398731           0.398950   218.537554   \n",
       "min       1.300000           8.900000           0.198800   620.300000   \n",
       "25%      14.900000          33.700000           0.855900   930.250000   \n",
       "50%      20.700000          47.300000           1.083500  1060.500000   \n",
       "75%      25.800000          60.800000           1.404150  1215.800000   \n",
       "max      46.100000          90.800000           2.231000  2088.300000   \n",
       "\n",
       "          sensor_2     sensor_3     sensor_4     sensor_5  \\\n",
       "count  7111.000000  7111.000000  7111.000000  7111.000000   \n",
       "mean    938.064970   883.903305  1513.238349   998.335565   \n",
       "std     281.978988   310.456355   350.180310   381.537695   \n",
       "min     364.000000   310.600000   552.900000   242.700000   \n",
       "25%     734.900000   681.050000  1320.350000   722.850000   \n",
       "50%     914.200000   827.800000  1513.100000   928.700000   \n",
       "75%    1124.100000  1008.850000  1720.400000  1224.700000   \n",
       "max    2302.600000  2567.400000  2913.800000  2594.600000   \n",
       "\n",
       "       target_carbon_monoxide  target_benzene  target_nitrogen_oxides  \n",
       "count             7111.000000     7111.000000             7111.000000  \n",
       "mean                 2.086219       10.237083              204.066784  \n",
       "std                  1.447109        7.694426              193.927723  \n",
       "min                  0.100000        0.100000                1.900000  \n",
       "25%                  1.000000        4.500000               76.450000  \n",
       "50%                  1.700000        8.500000              141.000000  \n",
       "75%                  2.800000       14.200000              260.000000  \n",
       "max                 12.500000       63.700000             1472.300000  "
      ]
     },
     "execution_count": 5,
     "metadata": {},
     "output_type": "execute_result"
    }
   ],
   "source": [
    "df.describe()"
   ]
  },
  {
   "cell_type": "code",
   "execution_count": 6,
   "metadata": {},
   "outputs": [
    {
     "data": {
      "text/plain": [
       "date_time                 False\n",
       "deg_C                     False\n",
       "relative_humidity         False\n",
       "absolute_humidity         False\n",
       "sensor_1                  False\n",
       "sensor_2                  False\n",
       "sensor_3                  False\n",
       "sensor_4                  False\n",
       "sensor_5                  False\n",
       "target_carbon_monoxide    False\n",
       "target_benzene            False\n",
       "target_nitrogen_oxides    False\n",
       "dtype: bool"
      ]
     },
     "execution_count": 6,
     "metadata": {},
     "output_type": "execute_result"
    }
   ],
   "source": [
    "pd.isnull(df).sum() > 0"
   ]
  },
  {
   "cell_type": "code",
   "execution_count": 7,
   "metadata": {},
   "outputs": [
    {
     "data": {
      "text/plain": [
       "Index(['date_time', 'deg_C', 'relative_humidity', 'absolute_humidity',\n",
       "       'sensor_1', 'sensor_2', 'sensor_3', 'sensor_4', 'sensor_5',\n",
       "       'target_carbon_monoxide', 'target_benzene', 'target_nitrogen_oxides'],\n",
       "      dtype='object')"
      ]
     },
     "execution_count": 7,
     "metadata": {},
     "output_type": "execute_result"
    }
   ],
   "source": [
    "df.columns"
   ]
  },
  {
   "cell_type": "code",
   "execution_count": 8,
   "metadata": {},
   "outputs": [],
   "source": [
    "df1 = df.copy()\n",
    "df2 = df_test.copy()"
   ]
  },
  {
   "cell_type": "markdown",
   "metadata": {},
   "source": [
    "## Split in X and y"
   ]
  },
  {
   "cell_type": "code",
   "execution_count": 9,
   "metadata": {},
   "outputs": [
    {
     "name": "stdout",
     "output_type": "stream",
     "text": [
      "<class 'pandas._libs.tslibs.timestamps.Timestamp'>\n"
     ]
    },
    {
     "data": {
      "text/html": [
       "<div>\n",
       "<style scoped>\n",
       "    .dataframe tbody tr th:only-of-type {\n",
       "        vertical-align: middle;\n",
       "    }\n",
       "\n",
       "    .dataframe tbody tr th {\n",
       "        vertical-align: top;\n",
       "    }\n",
       "\n",
       "    .dataframe thead th {\n",
       "        text-align: right;\n",
       "    }\n",
       "</style>\n",
       "<table border=\"1\" class=\"dataframe\">\n",
       "  <thead>\n",
       "    <tr style=\"text-align: right;\">\n",
       "      <th></th>\n",
       "      <th>date_time</th>\n",
       "      <th>deg_C</th>\n",
       "      <th>relative_humidity</th>\n",
       "      <th>absolute_humidity</th>\n",
       "      <th>sensor_1</th>\n",
       "      <th>sensor_2</th>\n",
       "      <th>sensor_3</th>\n",
       "      <th>sensor_4</th>\n",
       "      <th>sensor_5</th>\n",
       "    </tr>\n",
       "  </thead>\n",
       "  <tbody>\n",
       "    <tr>\n",
       "      <th>0</th>\n",
       "      <td>2010-03-10 18:00:00</td>\n",
       "      <td>13.1</td>\n",
       "      <td>46.0</td>\n",
       "      <td>0.7578</td>\n",
       "      <td>1387.2</td>\n",
       "      <td>1087.8</td>\n",
       "      <td>1056.0</td>\n",
       "      <td>1742.8</td>\n",
       "      <td>1293.4</td>\n",
       "    </tr>\n",
       "    <tr>\n",
       "      <th>1</th>\n",
       "      <td>2010-03-10 19:00:00</td>\n",
       "      <td>13.2</td>\n",
       "      <td>45.3</td>\n",
       "      <td>0.7255</td>\n",
       "      <td>1279.1</td>\n",
       "      <td>888.2</td>\n",
       "      <td>1197.5</td>\n",
       "      <td>1449.9</td>\n",
       "      <td>1010.9</td>\n",
       "    </tr>\n",
       "    <tr>\n",
       "      <th>2</th>\n",
       "      <td>2010-03-10 20:00:00</td>\n",
       "      <td>12.6</td>\n",
       "      <td>56.2</td>\n",
       "      <td>0.7502</td>\n",
       "      <td>1331.9</td>\n",
       "      <td>929.6</td>\n",
       "      <td>1060.2</td>\n",
       "      <td>1586.1</td>\n",
       "      <td>1117.0</td>\n",
       "    </tr>\n",
       "    <tr>\n",
       "      <th>3</th>\n",
       "      <td>2010-03-10 21:00:00</td>\n",
       "      <td>11.0</td>\n",
       "      <td>62.4</td>\n",
       "      <td>0.7867</td>\n",
       "      <td>1321.0</td>\n",
       "      <td>929.0</td>\n",
       "      <td>1102.9</td>\n",
       "      <td>1536.5</td>\n",
       "      <td>1263.2</td>\n",
       "    </tr>\n",
       "    <tr>\n",
       "      <th>4</th>\n",
       "      <td>2010-03-10 22:00:00</td>\n",
       "      <td>11.9</td>\n",
       "      <td>59.0</td>\n",
       "      <td>0.7888</td>\n",
       "      <td>1272.0</td>\n",
       "      <td>852.7</td>\n",
       "      <td>1180.9</td>\n",
       "      <td>1415.5</td>\n",
       "      <td>1132.2</td>\n",
       "    </tr>\n",
       "    <tr>\n",
       "      <th>...</th>\n",
       "      <td>...</td>\n",
       "      <td>...</td>\n",
       "      <td>...</td>\n",
       "      <td>...</td>\n",
       "      <td>...</td>\n",
       "      <td>...</td>\n",
       "      <td>...</td>\n",
       "      <td>...</td>\n",
       "      <td>...</td>\n",
       "    </tr>\n",
       "    <tr>\n",
       "      <th>7106</th>\n",
       "      <td>2010-12-31 20:00:00</td>\n",
       "      <td>9.2</td>\n",
       "      <td>32.0</td>\n",
       "      <td>0.3871</td>\n",
       "      <td>1000.5</td>\n",
       "      <td>811.2</td>\n",
       "      <td>873.0</td>\n",
       "      <td>909.0</td>\n",
       "      <td>910.5</td>\n",
       "    </tr>\n",
       "    <tr>\n",
       "      <th>7107</th>\n",
       "      <td>2010-12-31 21:00:00</td>\n",
       "      <td>9.1</td>\n",
       "      <td>33.2</td>\n",
       "      <td>0.3766</td>\n",
       "      <td>1022.7</td>\n",
       "      <td>790.0</td>\n",
       "      <td>951.6</td>\n",
       "      <td>912.9</td>\n",
       "      <td>903.4</td>\n",
       "    </tr>\n",
       "    <tr>\n",
       "      <th>7108</th>\n",
       "      <td>2010-12-31 22:00:00</td>\n",
       "      <td>9.6</td>\n",
       "      <td>34.6</td>\n",
       "      <td>0.4310</td>\n",
       "      <td>1044.4</td>\n",
       "      <td>767.3</td>\n",
       "      <td>861.9</td>\n",
       "      <td>889.2</td>\n",
       "      <td>1159.1</td>\n",
       "    </tr>\n",
       "    <tr>\n",
       "      <th>7109</th>\n",
       "      <td>2010-12-31 23:00:00</td>\n",
       "      <td>8.0</td>\n",
       "      <td>40.7</td>\n",
       "      <td>0.4085</td>\n",
       "      <td>952.8</td>\n",
       "      <td>691.9</td>\n",
       "      <td>908.5</td>\n",
       "      <td>917.0</td>\n",
       "      <td>1206.3</td>\n",
       "    </tr>\n",
       "    <tr>\n",
       "      <th>7110</th>\n",
       "      <td>2011-01-01 00:00:00</td>\n",
       "      <td>8.0</td>\n",
       "      <td>41.3</td>\n",
       "      <td>0.4375</td>\n",
       "      <td>1108.8</td>\n",
       "      <td>745.7</td>\n",
       "      <td>797.1</td>\n",
       "      <td>880.0</td>\n",
       "      <td>1273.1</td>\n",
       "    </tr>\n",
       "  </tbody>\n",
       "</table>\n",
       "<p>7111 rows × 9 columns</p>\n",
       "</div>"
      ],
      "text/plain": [
       "               date_time  deg_C  relative_humidity  absolute_humidity  \\\n",
       "0    2010-03-10 18:00:00   13.1               46.0             0.7578   \n",
       "1    2010-03-10 19:00:00   13.2               45.3             0.7255   \n",
       "2    2010-03-10 20:00:00   12.6               56.2             0.7502   \n",
       "3    2010-03-10 21:00:00   11.0               62.4             0.7867   \n",
       "4    2010-03-10 22:00:00   11.9               59.0             0.7888   \n",
       "...                  ...    ...                ...                ...   \n",
       "7106 2010-12-31 20:00:00    9.2               32.0             0.3871   \n",
       "7107 2010-12-31 21:00:00    9.1               33.2             0.3766   \n",
       "7108 2010-12-31 22:00:00    9.6               34.6             0.4310   \n",
       "7109 2010-12-31 23:00:00    8.0               40.7             0.4085   \n",
       "7110 2011-01-01 00:00:00    8.0               41.3             0.4375   \n",
       "\n",
       "      sensor_1  sensor_2  sensor_3  sensor_4  sensor_5  \n",
       "0       1387.2    1087.8    1056.0    1742.8    1293.4  \n",
       "1       1279.1     888.2    1197.5    1449.9    1010.9  \n",
       "2       1331.9     929.6    1060.2    1586.1    1117.0  \n",
       "3       1321.0     929.0    1102.9    1536.5    1263.2  \n",
       "4       1272.0     852.7    1180.9    1415.5    1132.2  \n",
       "...        ...       ...       ...       ...       ...  \n",
       "7106    1000.5     811.2     873.0     909.0     910.5  \n",
       "7107    1022.7     790.0     951.6     912.9     903.4  \n",
       "7108    1044.4     767.3     861.9     889.2    1159.1  \n",
       "7109     952.8     691.9     908.5     917.0    1206.3  \n",
       "7110    1108.8     745.7     797.1     880.0    1273.1  \n",
       "\n",
       "[7111 rows x 9 columns]"
      ]
     },
     "metadata": {},
     "output_type": "display_data"
    }
   ],
   "source": [
    "#drop target values for X matrix\n",
    "X = df1.drop(columns=['target_carbon_monoxide','target_benzene','target_nitrogen_oxides'])\n",
    "X['date_time'] = X['date_time'].astype('datetime64[ns]')#.astype(np.int64)/10**9\n",
    "\n",
    "print(type(X['date_time'].iloc[0]))\n",
    "\n",
    "display(X)"
   ]
  },
  {
   "cell_type": "code",
   "execution_count": 10,
   "metadata": {},
   "outputs": [],
   "source": [
    "XX = df2.copy()\n",
    "XX['date_time'] = df2['date_time'].astype('datetime64[ns]')#.astype(np.int64)/10**9"
   ]
  },
  {
   "cell_type": "code",
   "execution_count": 11,
   "metadata": {
    "scrolled": true
   },
   "outputs": [
    {
     "data": {
      "text/plain": [
       "0       2.5\n",
       "1       2.1\n",
       "2       2.2\n",
       "3       2.2\n",
       "4       1.5\n",
       "       ... \n",
       "7106    1.3\n",
       "7107    1.4\n",
       "7108    1.6\n",
       "7109    1.5\n",
       "7110    1.4\n",
       "Name: target_carbon_monoxide, Length: 7111, dtype: float64"
      ]
     },
     "metadata": {},
     "output_type": "display_data"
    },
    {
     "data": {
      "text/plain": [
       "0       12.0\n",
       "1        9.9\n",
       "2        9.2\n",
       "3        9.7\n",
       "4        6.4\n",
       "        ... \n",
       "7106     5.1\n",
       "7107     5.8\n",
       "7108     5.2\n",
       "7109     4.6\n",
       "7110     4.1\n",
       "Name: target_benzene, Length: 7111, dtype: float64"
      ]
     },
     "metadata": {},
     "output_type": "display_data"
    },
    {
     "data": {
      "text/plain": [
       "0       167.7\n",
       "1        98.9\n",
       "2       127.1\n",
       "3       177.2\n",
       "4       121.8\n",
       "        ...  \n",
       "7106    191.1\n",
       "7107    221.3\n",
       "7108    227.4\n",
       "7109    199.8\n",
       "7110    186.5\n",
       "Name: target_nitrogen_oxides, Length: 7111, dtype: float64"
      ]
     },
     "metadata": {},
     "output_type": "display_data"
    }
   ],
   "source": [
    "#define y vectors with targets\n",
    "y_CO = df1['target_carbon_monoxide']\n",
    "y_B = df1['target_benzene']\n",
    "y_NO = df1['target_nitrogen_oxides']\n",
    "\n",
    "display(y_CO, y_B, y_NO)"
   ]
  },
  {
   "cell_type": "markdown",
   "metadata": {},
   "source": [
    "## include columns"
   ]
  },
  {
   "cell_type": "code",
   "execution_count": 18,
   "metadata": {},
   "outputs": [
    {
     "data": {
      "text/html": [
       "<div>\n",
       "<style scoped>\n",
       "    .dataframe tbody tr th:only-of-type {\n",
       "        vertical-align: middle;\n",
       "    }\n",
       "\n",
       "    .dataframe tbody tr th {\n",
       "        vertical-align: top;\n",
       "    }\n",
       "\n",
       "    .dataframe thead th {\n",
       "        text-align: right;\n",
       "    }\n",
       "</style>\n",
       "<table border=\"1\" class=\"dataframe\">\n",
       "  <thead>\n",
       "    <tr style=\"text-align: right;\">\n",
       "      <th></th>\n",
       "      <th>date_time</th>\n",
       "      <th>deg_C</th>\n",
       "      <th>relative_humidity</th>\n",
       "      <th>absolute_humidity</th>\n",
       "      <th>sensor_1</th>\n",
       "      <th>sensor_2</th>\n",
       "      <th>sensor_3</th>\n",
       "      <th>sensor_4</th>\n",
       "      <th>sensor_5</th>\n",
       "      <th>hour</th>\n",
       "    </tr>\n",
       "  </thead>\n",
       "  <tbody>\n",
       "    <tr>\n",
       "      <th>0</th>\n",
       "      <td>2011-01-01 00:00:00</td>\n",
       "      <td>8.0</td>\n",
       "      <td>41.3</td>\n",
       "      <td>0.4375</td>\n",
       "      <td>1108.8</td>\n",
       "      <td>745.7</td>\n",
       "      <td>797.1</td>\n",
       "      <td>880.0</td>\n",
       "      <td>1273.1</td>\n",
       "      <td>0</td>\n",
       "    </tr>\n",
       "    <tr>\n",
       "      <th>1</th>\n",
       "      <td>2011-01-01 01:00:00</td>\n",
       "      <td>5.1</td>\n",
       "      <td>51.7</td>\n",
       "      <td>0.4564</td>\n",
       "      <td>1249.5</td>\n",
       "      <td>864.9</td>\n",
       "      <td>687.9</td>\n",
       "      <td>972.8</td>\n",
       "      <td>1714.0</td>\n",
       "      <td>1</td>\n",
       "    </tr>\n",
       "    <tr>\n",
       "      <th>2</th>\n",
       "      <td>2011-01-01 02:00:00</td>\n",
       "      <td>5.8</td>\n",
       "      <td>51.5</td>\n",
       "      <td>0.4689</td>\n",
       "      <td>1102.6</td>\n",
       "      <td>878.0</td>\n",
       "      <td>693.7</td>\n",
       "      <td>941.9</td>\n",
       "      <td>1300.8</td>\n",
       "      <td>2</td>\n",
       "    </tr>\n",
       "    <tr>\n",
       "      <th>3</th>\n",
       "      <td>2011-01-01 03:00:00</td>\n",
       "      <td>5.0</td>\n",
       "      <td>52.3</td>\n",
       "      <td>0.4693</td>\n",
       "      <td>1139.7</td>\n",
       "      <td>916.2</td>\n",
       "      <td>725.6</td>\n",
       "      <td>1011.0</td>\n",
       "      <td>1283.0</td>\n",
       "      <td>3</td>\n",
       "    </tr>\n",
       "    <tr>\n",
       "      <th>4</th>\n",
       "      <td>2011-01-01 04:00:00</td>\n",
       "      <td>4.5</td>\n",
       "      <td>57.5</td>\n",
       "      <td>0.4650</td>\n",
       "      <td>1022.4</td>\n",
       "      <td>838.5</td>\n",
       "      <td>871.5</td>\n",
       "      <td>967.0</td>\n",
       "      <td>1142.3</td>\n",
       "      <td>4</td>\n",
       "    </tr>\n",
       "    <tr>\n",
       "      <th>...</th>\n",
       "      <td>...</td>\n",
       "      <td>...</td>\n",
       "      <td>...</td>\n",
       "      <td>...</td>\n",
       "      <td>...</td>\n",
       "      <td>...</td>\n",
       "      <td>...</td>\n",
       "      <td>...</td>\n",
       "      <td>...</td>\n",
       "      <td>...</td>\n",
       "    </tr>\n",
       "    <tr>\n",
       "      <th>2242</th>\n",
       "      <td>2011-04-04 10:00:00</td>\n",
       "      <td>23.2</td>\n",
       "      <td>28.7</td>\n",
       "      <td>0.7568</td>\n",
       "      <td>1340.3</td>\n",
       "      <td>1023.9</td>\n",
       "      <td>522.8</td>\n",
       "      <td>1374.0</td>\n",
       "      <td>1659.8</td>\n",
       "      <td>10</td>\n",
       "    </tr>\n",
       "    <tr>\n",
       "      <th>2243</th>\n",
       "      <td>2011-04-04 11:00:00</td>\n",
       "      <td>24.5</td>\n",
       "      <td>22.5</td>\n",
       "      <td>0.7119</td>\n",
       "      <td>1232.8</td>\n",
       "      <td>955.1</td>\n",
       "      <td>616.1</td>\n",
       "      <td>1226.1</td>\n",
       "      <td>1269.0</td>\n",
       "      <td>11</td>\n",
       "    </tr>\n",
       "    <tr>\n",
       "      <th>2244</th>\n",
       "      <td>2011-04-04 12:00:00</td>\n",
       "      <td>26.6</td>\n",
       "      <td>19.0</td>\n",
       "      <td>0.6406</td>\n",
       "      <td>1187.7</td>\n",
       "      <td>1052.4</td>\n",
       "      <td>572.8</td>\n",
       "      <td>1253.4</td>\n",
       "      <td>1081.1</td>\n",
       "      <td>12</td>\n",
       "    </tr>\n",
       "    <tr>\n",
       "      <th>2245</th>\n",
       "      <td>2011-04-04 13:00:00</td>\n",
       "      <td>29.1</td>\n",
       "      <td>12.7</td>\n",
       "      <td>0.5139</td>\n",
       "      <td>1053.2</td>\n",
       "      <td>1009.0</td>\n",
       "      <td>702.0</td>\n",
       "      <td>1009.8</td>\n",
       "      <td>808.5</td>\n",
       "      <td>13</td>\n",
       "    </tr>\n",
       "    <tr>\n",
       "      <th>2246</th>\n",
       "      <td>2011-04-04 14:00:00</td>\n",
       "      <td>27.9</td>\n",
       "      <td>13.5</td>\n",
       "      <td>0.5028</td>\n",
       "      <td>1124.6</td>\n",
       "      <td>1078.4</td>\n",
       "      <td>608.2</td>\n",
       "      <td>1061.3</td>\n",
       "      <td>816.0</td>\n",
       "      <td>14</td>\n",
       "    </tr>\n",
       "  </tbody>\n",
       "</table>\n",
       "<p>2247 rows × 10 columns</p>\n",
       "</div>"
      ],
      "text/plain": [
       "               date_time  deg_C  relative_humidity  absolute_humidity  \\\n",
       "0    2011-01-01 00:00:00    8.0               41.3             0.4375   \n",
       "1    2011-01-01 01:00:00    5.1               51.7             0.4564   \n",
       "2    2011-01-01 02:00:00    5.8               51.5             0.4689   \n",
       "3    2011-01-01 03:00:00    5.0               52.3             0.4693   \n",
       "4    2011-01-01 04:00:00    4.5               57.5             0.4650   \n",
       "...                  ...    ...                ...                ...   \n",
       "2242 2011-04-04 10:00:00   23.2               28.7             0.7568   \n",
       "2243 2011-04-04 11:00:00   24.5               22.5             0.7119   \n",
       "2244 2011-04-04 12:00:00   26.6               19.0             0.6406   \n",
       "2245 2011-04-04 13:00:00   29.1               12.7             0.5139   \n",
       "2246 2011-04-04 14:00:00   27.9               13.5             0.5028   \n",
       "\n",
       "      sensor_1  sensor_2  sensor_3  sensor_4  sensor_5  hour  \n",
       "0       1108.8     745.7     797.1     880.0    1273.1     0  \n",
       "1       1249.5     864.9     687.9     972.8    1714.0     1  \n",
       "2       1102.6     878.0     693.7     941.9    1300.8     2  \n",
       "3       1139.7     916.2     725.6    1011.0    1283.0     3  \n",
       "4       1022.4     838.5     871.5     967.0    1142.3     4  \n",
       "...        ...       ...       ...       ...       ...   ...  \n",
       "2242    1340.3    1023.9     522.8    1374.0    1659.8    10  \n",
       "2243    1232.8     955.1     616.1    1226.1    1269.0    11  \n",
       "2244    1187.7    1052.4     572.8    1253.4    1081.1    12  \n",
       "2245    1053.2    1009.0     702.0    1009.8     808.5    13  \n",
       "2246    1124.6    1078.4     608.2    1061.3     816.0    14  \n",
       "\n",
       "[2247 rows x 10 columns]"
      ]
     },
     "execution_count": 18,
     "metadata": {},
     "output_type": "execute_result"
    }
   ],
   "source": [
    "XX"
   ]
  },
  {
   "cell_type": "code",
   "execution_count": 25,
   "metadata": {
    "scrolled": true
   },
   "outputs": [
    {
     "data": {
      "text/html": [
       "<div>\n",
       "<style scoped>\n",
       "    .dataframe tbody tr th:only-of-type {\n",
       "        vertical-align: middle;\n",
       "    }\n",
       "\n",
       "    .dataframe tbody tr th {\n",
       "        vertical-align: top;\n",
       "    }\n",
       "\n",
       "    .dataframe thead th {\n",
       "        text-align: right;\n",
       "    }\n",
       "</style>\n",
       "<table border=\"1\" class=\"dataframe\">\n",
       "  <thead>\n",
       "    <tr style=\"text-align: right;\">\n",
       "      <th></th>\n",
       "      <th>date_time</th>\n",
       "      <th>deg_C</th>\n",
       "      <th>relative_humidity</th>\n",
       "      <th>absolute_humidity</th>\n",
       "      <th>sensor_1</th>\n",
       "      <th>sensor_2</th>\n",
       "      <th>sensor_3</th>\n",
       "      <th>sensor_4</th>\n",
       "      <th>sensor_5</th>\n",
       "      <th>hour</th>\n",
       "      <th>daytime</th>\n",
       "      <th>dayweek</th>\n",
       "      <th>eveningtime</th>\n",
       "    </tr>\n",
       "  </thead>\n",
       "  <tbody>\n",
       "    <tr>\n",
       "      <th>0</th>\n",
       "      <td>2011-01-01 00:00:00</td>\n",
       "      <td>8.0</td>\n",
       "      <td>41.3</td>\n",
       "      <td>0.4375</td>\n",
       "      <td>1108.8</td>\n",
       "      <td>745.7</td>\n",
       "      <td>797.1</td>\n",
       "      <td>880.0</td>\n",
       "      <td>1273.1</td>\n",
       "      <td>0</td>\n",
       "      <td>0</td>\n",
       "      <td>5</td>\n",
       "      <td>1</td>\n",
       "    </tr>\n",
       "    <tr>\n",
       "      <th>1</th>\n",
       "      <td>2011-01-01 01:00:00</td>\n",
       "      <td>5.1</td>\n",
       "      <td>51.7</td>\n",
       "      <td>0.4564</td>\n",
       "      <td>1249.5</td>\n",
       "      <td>864.9</td>\n",
       "      <td>687.9</td>\n",
       "      <td>972.8</td>\n",
       "      <td>1714.0</td>\n",
       "      <td>1</td>\n",
       "      <td>1</td>\n",
       "      <td>5</td>\n",
       "      <td>0</td>\n",
       "    </tr>\n",
       "    <tr>\n",
       "      <th>2</th>\n",
       "      <td>2011-01-01 02:00:00</td>\n",
       "      <td>5.8</td>\n",
       "      <td>51.5</td>\n",
       "      <td>0.4689</td>\n",
       "      <td>1102.6</td>\n",
       "      <td>878.0</td>\n",
       "      <td>693.7</td>\n",
       "      <td>941.9</td>\n",
       "      <td>1300.8</td>\n",
       "      <td>2</td>\n",
       "      <td>1</td>\n",
       "      <td>5</td>\n",
       "      <td>0</td>\n",
       "    </tr>\n",
       "    <tr>\n",
       "      <th>3</th>\n",
       "      <td>2011-01-01 03:00:00</td>\n",
       "      <td>5.0</td>\n",
       "      <td>52.3</td>\n",
       "      <td>0.4693</td>\n",
       "      <td>1139.7</td>\n",
       "      <td>916.2</td>\n",
       "      <td>725.6</td>\n",
       "      <td>1011.0</td>\n",
       "      <td>1283.0</td>\n",
       "      <td>3</td>\n",
       "      <td>1</td>\n",
       "      <td>5</td>\n",
       "      <td>0</td>\n",
       "    </tr>\n",
       "    <tr>\n",
       "      <th>4</th>\n",
       "      <td>2011-01-01 04:00:00</td>\n",
       "      <td>4.5</td>\n",
       "      <td>57.5</td>\n",
       "      <td>0.4650</td>\n",
       "      <td>1022.4</td>\n",
       "      <td>838.5</td>\n",
       "      <td>871.5</td>\n",
       "      <td>967.0</td>\n",
       "      <td>1142.3</td>\n",
       "      <td>4</td>\n",
       "      <td>1</td>\n",
       "      <td>5</td>\n",
       "      <td>0</td>\n",
       "    </tr>\n",
       "    <tr>\n",
       "      <th>...</th>\n",
       "      <td>...</td>\n",
       "      <td>...</td>\n",
       "      <td>...</td>\n",
       "      <td>...</td>\n",
       "      <td>...</td>\n",
       "      <td>...</td>\n",
       "      <td>...</td>\n",
       "      <td>...</td>\n",
       "      <td>...</td>\n",
       "      <td>...</td>\n",
       "      <td>...</td>\n",
       "      <td>...</td>\n",
       "      <td>...</td>\n",
       "    </tr>\n",
       "    <tr>\n",
       "      <th>2242</th>\n",
       "      <td>2011-04-04 10:00:00</td>\n",
       "      <td>23.2</td>\n",
       "      <td>28.7</td>\n",
       "      <td>0.7568</td>\n",
       "      <td>1340.3</td>\n",
       "      <td>1023.9</td>\n",
       "      <td>522.8</td>\n",
       "      <td>1374.0</td>\n",
       "      <td>1659.8</td>\n",
       "      <td>10</td>\n",
       "      <td>1</td>\n",
       "      <td>0</td>\n",
       "      <td>0</td>\n",
       "    </tr>\n",
       "    <tr>\n",
       "      <th>2243</th>\n",
       "      <td>2011-04-04 11:00:00</td>\n",
       "      <td>24.5</td>\n",
       "      <td>22.5</td>\n",
       "      <td>0.7119</td>\n",
       "      <td>1232.8</td>\n",
       "      <td>955.1</td>\n",
       "      <td>616.1</td>\n",
       "      <td>1226.1</td>\n",
       "      <td>1269.0</td>\n",
       "      <td>11</td>\n",
       "      <td>1</td>\n",
       "      <td>0</td>\n",
       "      <td>0</td>\n",
       "    </tr>\n",
       "    <tr>\n",
       "      <th>2244</th>\n",
       "      <td>2011-04-04 12:00:00</td>\n",
       "      <td>26.6</td>\n",
       "      <td>19.0</td>\n",
       "      <td>0.6406</td>\n",
       "      <td>1187.7</td>\n",
       "      <td>1052.4</td>\n",
       "      <td>572.8</td>\n",
       "      <td>1253.4</td>\n",
       "      <td>1081.1</td>\n",
       "      <td>12</td>\n",
       "      <td>1</td>\n",
       "      <td>0</td>\n",
       "      <td>0</td>\n",
       "    </tr>\n",
       "    <tr>\n",
       "      <th>2245</th>\n",
       "      <td>2011-04-04 13:00:00</td>\n",
       "      <td>29.1</td>\n",
       "      <td>12.7</td>\n",
       "      <td>0.5139</td>\n",
       "      <td>1053.2</td>\n",
       "      <td>1009.0</td>\n",
       "      <td>702.0</td>\n",
       "      <td>1009.8</td>\n",
       "      <td>808.5</td>\n",
       "      <td>13</td>\n",
       "      <td>1</td>\n",
       "      <td>0</td>\n",
       "      <td>0</td>\n",
       "    </tr>\n",
       "    <tr>\n",
       "      <th>2246</th>\n",
       "      <td>2011-04-04 14:00:00</td>\n",
       "      <td>27.9</td>\n",
       "      <td>13.5</td>\n",
       "      <td>0.5028</td>\n",
       "      <td>1124.6</td>\n",
       "      <td>1078.4</td>\n",
       "      <td>608.2</td>\n",
       "      <td>1061.3</td>\n",
       "      <td>816.0</td>\n",
       "      <td>14</td>\n",
       "      <td>1</td>\n",
       "      <td>0</td>\n",
       "      <td>0</td>\n",
       "    </tr>\n",
       "  </tbody>\n",
       "</table>\n",
       "<p>2247 rows × 13 columns</p>\n",
       "</div>"
      ],
      "text/plain": [
       "               date_time  deg_C  relative_humidity  absolute_humidity  \\\n",
       "0    2011-01-01 00:00:00    8.0               41.3             0.4375   \n",
       "1    2011-01-01 01:00:00    5.1               51.7             0.4564   \n",
       "2    2011-01-01 02:00:00    5.8               51.5             0.4689   \n",
       "3    2011-01-01 03:00:00    5.0               52.3             0.4693   \n",
       "4    2011-01-01 04:00:00    4.5               57.5             0.4650   \n",
       "...                  ...    ...                ...                ...   \n",
       "2242 2011-04-04 10:00:00   23.2               28.7             0.7568   \n",
       "2243 2011-04-04 11:00:00   24.5               22.5             0.7119   \n",
       "2244 2011-04-04 12:00:00   26.6               19.0             0.6406   \n",
       "2245 2011-04-04 13:00:00   29.1               12.7             0.5139   \n",
       "2246 2011-04-04 14:00:00   27.9               13.5             0.5028   \n",
       "\n",
       "      sensor_1  sensor_2  sensor_3  sensor_4  sensor_5  hour  daytime  \\\n",
       "0       1108.8     745.7     797.1     880.0    1273.1     0        0   \n",
       "1       1249.5     864.9     687.9     972.8    1714.0     1        1   \n",
       "2       1102.6     878.0     693.7     941.9    1300.8     2        1   \n",
       "3       1139.7     916.2     725.6    1011.0    1283.0     3        1   \n",
       "4       1022.4     838.5     871.5     967.0    1142.3     4        1   \n",
       "...        ...       ...       ...       ...       ...   ...      ...   \n",
       "2242    1340.3    1023.9     522.8    1374.0    1659.8    10        1   \n",
       "2243    1232.8     955.1     616.1    1226.1    1269.0    11        1   \n",
       "2244    1187.7    1052.4     572.8    1253.4    1081.1    12        1   \n",
       "2245    1053.2    1009.0     702.0    1009.8     808.5    13        1   \n",
       "2246    1124.6    1078.4     608.2    1061.3     816.0    14        1   \n",
       "\n",
       "      dayweek  eveningtime  \n",
       "0           5            1  \n",
       "1           5            0  \n",
       "2           5            0  \n",
       "3           5            0  \n",
       "4           5            0  \n",
       "...       ...          ...  \n",
       "2242        0            0  \n",
       "2243        0            0  \n",
       "2244        0            0  \n",
       "2245        0            0  \n",
       "2246        0            0  \n",
       "\n",
       "[2247 rows x 13 columns]"
      ]
     },
     "metadata": {},
     "output_type": "display_data"
    }
   ],
   "source": [
    "XX['hour']=pd.to_datetime(df2['date_time']).dt.hour\n",
    "XX['eveningtime'] = (XX['hour'] == 0) | ((XX['hour'] >=18) & (XX['hour'] <= 24))\n",
    "XX['eveningtime'] = XX['eveningtime'].astype(int) \n",
    "XX['daytime'] = ((XX['hour'] >= 1) & (XX['hour'] <= 17))\n",
    "XX['daytime'] = XX['daytime'].astype(int)\n",
    "XX['dayweek'] = pd.to_datetime(XX['date_time']).dt.dayofweek\n",
    "\n",
    "display(XX)"
   ]
  },
  {
   "cell_type": "code",
   "execution_count": 26,
   "metadata": {},
   "outputs": [
    {
     "data": {
      "text/html": [
       "<div>\n",
       "<style scoped>\n",
       "    .dataframe tbody tr th:only-of-type {\n",
       "        vertical-align: middle;\n",
       "    }\n",
       "\n",
       "    .dataframe tbody tr th {\n",
       "        vertical-align: top;\n",
       "    }\n",
       "\n",
       "    .dataframe thead th {\n",
       "        text-align: right;\n",
       "    }\n",
       "</style>\n",
       "<table border=\"1\" class=\"dataframe\">\n",
       "  <thead>\n",
       "    <tr style=\"text-align: right;\">\n",
       "      <th></th>\n",
       "      <th>date_time</th>\n",
       "      <th>deg_C</th>\n",
       "      <th>relative_humidity</th>\n",
       "      <th>absolute_humidity</th>\n",
       "      <th>sensor_1</th>\n",
       "      <th>sensor_2</th>\n",
       "      <th>sensor_3</th>\n",
       "      <th>sensor_4</th>\n",
       "      <th>sensor_5</th>\n",
       "      <th>hour</th>\n",
       "      <th>eveningtime</th>\n",
       "      <th>daytime</th>\n",
       "      <th>dayweek</th>\n",
       "    </tr>\n",
       "  </thead>\n",
       "  <tbody>\n",
       "    <tr>\n",
       "      <th>0</th>\n",
       "      <td>2010-03-10 18:00:00</td>\n",
       "      <td>13.1</td>\n",
       "      <td>46.0</td>\n",
       "      <td>0.7578</td>\n",
       "      <td>1387.2</td>\n",
       "      <td>1087.8</td>\n",
       "      <td>1056.0</td>\n",
       "      <td>1742.8</td>\n",
       "      <td>1293.4</td>\n",
       "      <td>18</td>\n",
       "      <td>1</td>\n",
       "      <td>0</td>\n",
       "      <td>2</td>\n",
       "    </tr>\n",
       "    <tr>\n",
       "      <th>1</th>\n",
       "      <td>2010-03-10 19:00:00</td>\n",
       "      <td>13.2</td>\n",
       "      <td>45.3</td>\n",
       "      <td>0.7255</td>\n",
       "      <td>1279.1</td>\n",
       "      <td>888.2</td>\n",
       "      <td>1197.5</td>\n",
       "      <td>1449.9</td>\n",
       "      <td>1010.9</td>\n",
       "      <td>19</td>\n",
       "      <td>1</td>\n",
       "      <td>0</td>\n",
       "      <td>2</td>\n",
       "    </tr>\n",
       "    <tr>\n",
       "      <th>2</th>\n",
       "      <td>2010-03-10 20:00:00</td>\n",
       "      <td>12.6</td>\n",
       "      <td>56.2</td>\n",
       "      <td>0.7502</td>\n",
       "      <td>1331.9</td>\n",
       "      <td>929.6</td>\n",
       "      <td>1060.2</td>\n",
       "      <td>1586.1</td>\n",
       "      <td>1117.0</td>\n",
       "      <td>20</td>\n",
       "      <td>1</td>\n",
       "      <td>0</td>\n",
       "      <td>2</td>\n",
       "    </tr>\n",
       "    <tr>\n",
       "      <th>3</th>\n",
       "      <td>2010-03-10 21:00:00</td>\n",
       "      <td>11.0</td>\n",
       "      <td>62.4</td>\n",
       "      <td>0.7867</td>\n",
       "      <td>1321.0</td>\n",
       "      <td>929.0</td>\n",
       "      <td>1102.9</td>\n",
       "      <td>1536.5</td>\n",
       "      <td>1263.2</td>\n",
       "      <td>21</td>\n",
       "      <td>1</td>\n",
       "      <td>0</td>\n",
       "      <td>2</td>\n",
       "    </tr>\n",
       "    <tr>\n",
       "      <th>4</th>\n",
       "      <td>2010-03-10 22:00:00</td>\n",
       "      <td>11.9</td>\n",
       "      <td>59.0</td>\n",
       "      <td>0.7888</td>\n",
       "      <td>1272.0</td>\n",
       "      <td>852.7</td>\n",
       "      <td>1180.9</td>\n",
       "      <td>1415.5</td>\n",
       "      <td>1132.2</td>\n",
       "      <td>22</td>\n",
       "      <td>1</td>\n",
       "      <td>0</td>\n",
       "      <td>2</td>\n",
       "    </tr>\n",
       "    <tr>\n",
       "      <th>...</th>\n",
       "      <td>...</td>\n",
       "      <td>...</td>\n",
       "      <td>...</td>\n",
       "      <td>...</td>\n",
       "      <td>...</td>\n",
       "      <td>...</td>\n",
       "      <td>...</td>\n",
       "      <td>...</td>\n",
       "      <td>...</td>\n",
       "      <td>...</td>\n",
       "      <td>...</td>\n",
       "      <td>...</td>\n",
       "      <td>...</td>\n",
       "    </tr>\n",
       "    <tr>\n",
       "      <th>7106</th>\n",
       "      <td>2010-12-31 20:00:00</td>\n",
       "      <td>9.2</td>\n",
       "      <td>32.0</td>\n",
       "      <td>0.3871</td>\n",
       "      <td>1000.5</td>\n",
       "      <td>811.2</td>\n",
       "      <td>873.0</td>\n",
       "      <td>909.0</td>\n",
       "      <td>910.5</td>\n",
       "      <td>20</td>\n",
       "      <td>1</td>\n",
       "      <td>0</td>\n",
       "      <td>4</td>\n",
       "    </tr>\n",
       "    <tr>\n",
       "      <th>7107</th>\n",
       "      <td>2010-12-31 21:00:00</td>\n",
       "      <td>9.1</td>\n",
       "      <td>33.2</td>\n",
       "      <td>0.3766</td>\n",
       "      <td>1022.7</td>\n",
       "      <td>790.0</td>\n",
       "      <td>951.6</td>\n",
       "      <td>912.9</td>\n",
       "      <td>903.4</td>\n",
       "      <td>21</td>\n",
       "      <td>1</td>\n",
       "      <td>0</td>\n",
       "      <td>4</td>\n",
       "    </tr>\n",
       "    <tr>\n",
       "      <th>7108</th>\n",
       "      <td>2010-12-31 22:00:00</td>\n",
       "      <td>9.6</td>\n",
       "      <td>34.6</td>\n",
       "      <td>0.4310</td>\n",
       "      <td>1044.4</td>\n",
       "      <td>767.3</td>\n",
       "      <td>861.9</td>\n",
       "      <td>889.2</td>\n",
       "      <td>1159.1</td>\n",
       "      <td>22</td>\n",
       "      <td>1</td>\n",
       "      <td>0</td>\n",
       "      <td>4</td>\n",
       "    </tr>\n",
       "    <tr>\n",
       "      <th>7109</th>\n",
       "      <td>2010-12-31 23:00:00</td>\n",
       "      <td>8.0</td>\n",
       "      <td>40.7</td>\n",
       "      <td>0.4085</td>\n",
       "      <td>952.8</td>\n",
       "      <td>691.9</td>\n",
       "      <td>908.5</td>\n",
       "      <td>917.0</td>\n",
       "      <td>1206.3</td>\n",
       "      <td>23</td>\n",
       "      <td>1</td>\n",
       "      <td>0</td>\n",
       "      <td>4</td>\n",
       "    </tr>\n",
       "    <tr>\n",
       "      <th>7110</th>\n",
       "      <td>2011-01-01 00:00:00</td>\n",
       "      <td>8.0</td>\n",
       "      <td>41.3</td>\n",
       "      <td>0.4375</td>\n",
       "      <td>1108.8</td>\n",
       "      <td>745.7</td>\n",
       "      <td>797.1</td>\n",
       "      <td>880.0</td>\n",
       "      <td>1273.1</td>\n",
       "      <td>0</td>\n",
       "      <td>1</td>\n",
       "      <td>0</td>\n",
       "      <td>5</td>\n",
       "    </tr>\n",
       "  </tbody>\n",
       "</table>\n",
       "<p>7111 rows × 13 columns</p>\n",
       "</div>"
      ],
      "text/plain": [
       "               date_time  deg_C  relative_humidity  absolute_humidity  \\\n",
       "0    2010-03-10 18:00:00   13.1               46.0             0.7578   \n",
       "1    2010-03-10 19:00:00   13.2               45.3             0.7255   \n",
       "2    2010-03-10 20:00:00   12.6               56.2             0.7502   \n",
       "3    2010-03-10 21:00:00   11.0               62.4             0.7867   \n",
       "4    2010-03-10 22:00:00   11.9               59.0             0.7888   \n",
       "...                  ...    ...                ...                ...   \n",
       "7106 2010-12-31 20:00:00    9.2               32.0             0.3871   \n",
       "7107 2010-12-31 21:00:00    9.1               33.2             0.3766   \n",
       "7108 2010-12-31 22:00:00    9.6               34.6             0.4310   \n",
       "7109 2010-12-31 23:00:00    8.0               40.7             0.4085   \n",
       "7110 2011-01-01 00:00:00    8.0               41.3             0.4375   \n",
       "\n",
       "      sensor_1  sensor_2  sensor_3  sensor_4  sensor_5  hour  eveningtime  \\\n",
       "0       1387.2    1087.8    1056.0    1742.8    1293.4    18            1   \n",
       "1       1279.1     888.2    1197.5    1449.9    1010.9    19            1   \n",
       "2       1331.9     929.6    1060.2    1586.1    1117.0    20            1   \n",
       "3       1321.0     929.0    1102.9    1536.5    1263.2    21            1   \n",
       "4       1272.0     852.7    1180.9    1415.5    1132.2    22            1   \n",
       "...        ...       ...       ...       ...       ...   ...          ...   \n",
       "7106    1000.5     811.2     873.0     909.0     910.5    20            1   \n",
       "7107    1022.7     790.0     951.6     912.9     903.4    21            1   \n",
       "7108    1044.4     767.3     861.9     889.2    1159.1    22            1   \n",
       "7109     952.8     691.9     908.5     917.0    1206.3    23            1   \n",
       "7110    1108.8     745.7     797.1     880.0    1273.1     0            1   \n",
       "\n",
       "      daytime  dayweek  \n",
       "0           0        2  \n",
       "1           0        2  \n",
       "2           0        2  \n",
       "3           0        2  \n",
       "4           0        2  \n",
       "...       ...      ...  \n",
       "7106        0        4  \n",
       "7107        0        4  \n",
       "7108        0        4  \n",
       "7109        0        4  \n",
       "7110        0        5  \n",
       "\n",
       "[7111 rows x 13 columns]"
      ]
     },
     "metadata": {},
     "output_type": "display_data"
    }
   ],
   "source": [
    "X['hour']=pd.to_datetime(df['date_time']).dt.hour\n",
    "X['eveningtime'] = (X['hour'] == 0) | ((X['hour'] >=18) & (X['hour'] <= 24))\n",
    "X['eveningtime'] = X['eveningtime'].astype(int) \n",
    "X['daytime'] = ((X['hour'] >= 1) & (X['hour'] <= 17))\n",
    "X['daytime'] = X['daytime'].astype(int)\n",
    "X['dayweek'] = pd.to_datetime(X['date_time']).dt.dayofweek\n",
    "\n",
    "display(X)"
   ]
  },
  {
   "cell_type": "markdown",
   "metadata": {},
   "source": [
    "# Train-Test-Split"
   ]
  },
  {
   "cell_type": "code",
   "execution_count": 27,
   "metadata": {},
   "outputs": [],
   "source": [
    "X_train, X_test, yCO_train, yCO_test = train_test_split(X,y_CO, random_state=31)\n",
    "X_train, X_test, yB_train, yB_test = train_test_split(X,y_B, random_state=31)\n",
    "X_train, X_test, yNO_train, yNO_test = train_test_split(X,y_NO, random_state=31)"
   ]
  },
  {
   "cell_type": "markdown",
   "metadata": {},
   "source": [
    "# Validation Model\n",
    "\n",
    "## CO"
   ]
  },
  {
   "cell_type": "code",
   "execution_count": 28,
   "metadata": {},
   "outputs": [
    {
     "data": {
      "text/plain": [
       "<AxesSubplot:>"
      ]
     },
     "execution_count": 28,
     "metadata": {},
     "output_type": "execute_result"
    },
    {
     "data": {
      "image/png": "[encoded data removed]",
      "text/plain": [
       "<Figure size 720x576 with 2 Axes>"
      ]
     },
     "metadata": {
      "needs_background": "light"
     },
     "output_type": "display_data"
    }
   ],
   "source": [
    "#heatmap \n",
    "plt.figure(figsize=(10,8))\n",
    "sns.heatmap(round(X_train.corr(),2), annot=True)"
   ]
  },
  {
   "cell_type": "code",
   "execution_count": 29,
   "metadata": {},
   "outputs": [
    {
     "name": "stderr",
     "output_type": "stream",
     "text": [
      "/home/jana/anaconda3/lib/python3.8/site-packages/pandas/core/frame.py:4163: SettingWithCopyWarning: \n",
      "A value is trying to be set on a copy of a slice from a DataFrame\n",
      "\n",
      "See the caveats in the documentation: https://pandas.pydata.org/pandas-docs/stable/user_guide/indexing.html#returning-a-view-versus-a-copy\n",
      "  return super().drop(\n"
     ]
    }
   ],
   "source": [
    "X_train.drop(columns=['date_time'],inplace=True)\n",
    "X_test.drop(columns=['date_time'],inplace=True)"
   ]
  },
  {
   "cell_type": "code",
   "execution_count": 39,
   "metadata": {},
   "outputs": [],
   "source": [
    "param_grid = {'n_estimators':[100,120,150,200],\n",
    "              'max_depth':[ 2, 3, 4 ,5]\n",
    "             \n",
    "             }\n",
    "m1 = GridSearchCV(GradientBoostingRegressor(), param_grid, cv = 5, return_train_score=True)"
   ]
  },
  {
   "cell_type": "code",
   "execution_count": 40,
   "metadata": {},
   "outputs": [
    {
     "data": {
      "text/plain": [
       "GridSearchCV(cv=5, estimator=GradientBoostingRegressor(),\n",
       "             param_grid={'max_depth': [2, 3, 4, 5],\n",
       "                         'n_estimators': [100, 120, 150, 200]},\n",
       "             return_train_score=True)"
      ]
     },
     "execution_count": 40,
     "metadata": {},
     "output_type": "execute_result"
    }
   ],
   "source": [
    "m1.fit(X_train,yCO_train)"
   ]
  },
  {
   "cell_type": "code",
   "execution_count": 41,
   "metadata": {},
   "outputs": [
    {
     "data": {
      "text/plain": [
       "0.915050167878589"
      ]
     },
     "execution_count": 41,
     "metadata": {},
     "output_type": "execute_result"
    }
   ],
   "source": [
    "m1.best_score_"
   ]
  },
  {
   "cell_type": "code",
   "execution_count": 42,
   "metadata": {},
   "outputs": [
    {
     "data": {
      "text/plain": [
       "GradientBoostingRegressor(max_depth=5, n_estimators=150)"
      ]
     },
     "execution_count": 42,
     "metadata": {},
     "output_type": "execute_result"
    }
   ],
   "source": [
    "m1.best_estimator_"
   ]
  },
  {
   "cell_type": "code",
   "execution_count": 43,
   "metadata": {},
   "outputs": [
    {
     "data": {
      "text/html": [
       "<div>\n",
       "<style scoped>\n",
       "    .dataframe tbody tr th:only-of-type {\n",
       "        vertical-align: middle;\n",
       "    }\n",
       "\n",
       "    .dataframe tbody tr th {\n",
       "        vertical-align: top;\n",
       "    }\n",
       "\n",
       "    .dataframe thead th {\n",
       "        text-align: right;\n",
       "    }\n",
       "</style>\n",
       "<table border=\"1\" class=\"dataframe\">\n",
       "  <thead>\n",
       "    <tr style=\"text-align: right;\">\n",
       "      <th></th>\n",
       "      <th>mean_fit_time</th>\n",
       "      <th>std_fit_time</th>\n",
       "      <th>mean_score_time</th>\n",
       "      <th>std_score_time</th>\n",
       "      <th>param_max_depth</th>\n",
       "      <th>param_n_estimators</th>\n",
       "      <th>params</th>\n",
       "      <th>split0_test_score</th>\n",
       "      <th>split1_test_score</th>\n",
       "      <th>split2_test_score</th>\n",
       "      <th>...</th>\n",
       "      <th>mean_test_score</th>\n",
       "      <th>std_test_score</th>\n",
       "      <th>rank_test_score</th>\n",
       "      <th>split0_train_score</th>\n",
       "      <th>split1_train_score</th>\n",
       "      <th>split2_train_score</th>\n",
       "      <th>split3_train_score</th>\n",
       "      <th>split4_train_score</th>\n",
       "      <th>mean_train_score</th>\n",
       "      <th>std_train_score</th>\n",
       "    </tr>\n",
       "  </thead>\n",
       "  <tbody>\n",
       "    <tr>\n",
       "      <th>0</th>\n",
       "      <td>0.695716</td>\n",
       "      <td>0.051722</td>\n",
       "      <td>0.002729</td>\n",
       "      <td>0.000180</td>\n",
       "      <td>2</td>\n",
       "      <td>100</td>\n",
       "      <td>{'max_depth': 2, 'n_estimators': 100}</td>\n",
       "      <td>0.891407</td>\n",
       "      <td>0.877749</td>\n",
       "      <td>0.875759</td>\n",
       "      <td>...</td>\n",
       "      <td>0.888984</td>\n",
       "      <td>0.010615</td>\n",
       "      <td>16</td>\n",
       "      <td>0.913790</td>\n",
       "      <td>0.913969</td>\n",
       "      <td>0.915466</td>\n",
       "      <td>0.911353</td>\n",
       "      <td>0.910827</td>\n",
       "      <td>0.913081</td>\n",
       "      <td>0.001735</td>\n",
       "    </tr>\n",
       "    <tr>\n",
       "      <th>1</th>\n",
       "      <td>0.912430</td>\n",
       "      <td>0.055824</td>\n",
       "      <td>0.003240</td>\n",
       "      <td>0.000254</td>\n",
       "      <td>2</td>\n",
       "      <td>120</td>\n",
       "      <td>{'max_depth': 2, 'n_estimators': 120}</td>\n",
       "      <td>0.892445</td>\n",
       "      <td>0.879094</td>\n",
       "      <td>0.877985</td>\n",
       "      <td>...</td>\n",
       "      <td>0.890983</td>\n",
       "      <td>0.010918</td>\n",
       "      <td>15</td>\n",
       "      <td>0.918793</td>\n",
       "      <td>0.917864</td>\n",
       "      <td>0.919826</td>\n",
       "      <td>0.915846</td>\n",
       "      <td>0.914934</td>\n",
       "      <td>0.917453</td>\n",
       "      <td>0.001818</td>\n",
       "    </tr>\n",
       "    <tr>\n",
       "      <th>2</th>\n",
       "      <td>1.008102</td>\n",
       "      <td>0.037089</td>\n",
       "      <td>0.003088</td>\n",
       "      <td>0.000340</td>\n",
       "      <td>2</td>\n",
       "      <td>150</td>\n",
       "      <td>{'max_depth': 2, 'n_estimators': 150}</td>\n",
       "      <td>0.892118</td>\n",
       "      <td>0.880254</td>\n",
       "      <td>0.879416</td>\n",
       "      <td>...</td>\n",
       "      <td>0.892080</td>\n",
       "      <td>0.011140</td>\n",
       "      <td>14</td>\n",
       "      <td>0.924462</td>\n",
       "      <td>0.922870</td>\n",
       "      <td>0.924558</td>\n",
       "      <td>0.921143</td>\n",
       "      <td>0.920337</td>\n",
       "      <td>0.922674</td>\n",
       "      <td>0.001708</td>\n",
       "    </tr>\n",
       "    <tr>\n",
       "      <th>3</th>\n",
       "      <td>1.404737</td>\n",
       "      <td>0.059909</td>\n",
       "      <td>0.003403</td>\n",
       "      <td>0.000159</td>\n",
       "      <td>2</td>\n",
       "      <td>200</td>\n",
       "      <td>{'max_depth': 2, 'n_estimators': 200}</td>\n",
       "      <td>0.893044</td>\n",
       "      <td>0.883475</td>\n",
       "      <td>0.880283</td>\n",
       "      <td>...</td>\n",
       "      <td>0.893713</td>\n",
       "      <td>0.011094</td>\n",
       "      <td>13</td>\n",
       "      <td>0.931315</td>\n",
       "      <td>0.931062</td>\n",
       "      <td>0.930837</td>\n",
       "      <td>0.928335</td>\n",
       "      <td>0.927535</td>\n",
       "      <td>0.929817</td>\n",
       "      <td>0.001565</td>\n",
       "    </tr>\n",
       "    <tr>\n",
       "      <th>4</th>\n",
       "      <td>1.075178</td>\n",
       "      <td>0.070926</td>\n",
       "      <td>0.003428</td>\n",
       "      <td>0.000390</td>\n",
       "      <td>3</td>\n",
       "      <td>100</td>\n",
       "      <td>{'max_depth': 3, 'n_estimators': 100}</td>\n",
       "      <td>0.906107</td>\n",
       "      <td>0.892028</td>\n",
       "      <td>0.889102</td>\n",
       "      <td>...</td>\n",
       "      <td>0.901971</td>\n",
       "      <td>0.009903</td>\n",
       "      <td>12</td>\n",
       "      <td>0.938231</td>\n",
       "      <td>0.937539</td>\n",
       "      <td>0.940255</td>\n",
       "      <td>0.938675</td>\n",
       "      <td>0.936753</td>\n",
       "      <td>0.938291</td>\n",
       "      <td>0.001178</td>\n",
       "    </tr>\n",
       "  </tbody>\n",
       "</table>\n",
       "<p>5 rows × 22 columns</p>\n",
       "</div>"
      ],
      "text/plain": [
       "   mean_fit_time  std_fit_time  mean_score_time  std_score_time  \\\n",
       "0       0.695716      0.051722         0.002729        0.000180   \n",
       "1       0.912430      0.055824         0.003240        0.000254   \n",
       "2       1.008102      0.037089         0.003088        0.000340   \n",
       "3       1.404737      0.059909         0.003403        0.000159   \n",
       "4       1.075178      0.070926         0.003428        0.000390   \n",
       "\n",
       "  param_max_depth param_n_estimators                                 params  \\\n",
       "0               2                100  {'max_depth': 2, 'n_estimators': 100}   \n",
       "1               2                120  {'max_depth': 2, 'n_estimators': 120}   \n",
       "2               2                150  {'max_depth': 2, 'n_estimators': 150}   \n",
       "3               2                200  {'max_depth': 2, 'n_estimators': 200}   \n",
       "4               3                100  {'max_depth': 3, 'n_estimators': 100}   \n",
       "\n",
       "   split0_test_score  split1_test_score  split2_test_score  ...  \\\n",
       "0           0.891407           0.877749           0.875759  ...   \n",
       "1           0.892445           0.879094           0.877985  ...   \n",
       "2           0.892118           0.880254           0.879416  ...   \n",
       "3           0.893044           0.883475           0.880283  ...   \n",
       "4           0.906107           0.892028           0.889102  ...   \n",
       "\n",
       "   mean_test_score  std_test_score  rank_test_score  split0_train_score  \\\n",
       "0         0.888984        0.010615               16            0.913790   \n",
       "1         0.890983        0.010918               15            0.918793   \n",
       "2         0.892080        0.011140               14            0.924462   \n",
       "3         0.893713        0.011094               13            0.931315   \n",
       "4         0.901971        0.009903               12            0.938231   \n",
       "\n",
       "   split1_train_score  split2_train_score  split3_train_score  \\\n",
       "0            0.913969            0.915466            0.911353   \n",
       "1            0.917864            0.919826            0.915846   \n",
       "2            0.922870            0.924558            0.921143   \n",
       "3            0.931062            0.930837            0.928335   \n",
       "4            0.937539            0.940255            0.938675   \n",
       "\n",
       "   split4_train_score  mean_train_score  std_train_score  \n",
       "0            0.910827          0.913081         0.001735  \n",
       "1            0.914934          0.917453         0.001818  \n",
       "2            0.920337          0.922674         0.001708  \n",
       "3            0.927535          0.929817         0.001565  \n",
       "4            0.936753          0.938291         0.001178  \n",
       "\n",
       "[5 rows x 22 columns]"
      ]
     },
     "execution_count": 43,
     "metadata": {},
     "output_type": "execute_result"
    }
   ],
   "source": [
    "results = pd.DataFrame(m1.cv_results_)\n",
    "results.head()"
   ]
  },
  {
   "cell_type": "code",
   "execution_count": 44,
   "metadata": {},
   "outputs": [
    {
     "data": {
      "text/plain": [
       "0     0.888984\n",
       "1     0.890983\n",
       "2     0.892080\n",
       "3     0.893713\n",
       "4     0.901971\n",
       "5     0.903316\n",
       "6     0.906481\n",
       "7     0.908163\n",
       "8     0.909988\n",
       "9     0.910653\n",
       "10    0.912032\n",
       "11    0.913209\n",
       "12    0.912508\n",
       "13    0.913942\n",
       "14    0.915050\n",
       "15    0.914510\n",
       "Name: mean_test_score, dtype: float64"
      ]
     },
     "metadata": {},
     "output_type": "display_data"
    }
   ],
   "source": [
    "#heatmap \n",
    "scores = np.array(results['mean_test_score']).reshape(4,4)\n",
    "display(results['mean_test_score'])"
   ]
  },
  {
   "cell_type": "code",
   "execution_count": 45,
   "metadata": {},
   "outputs": [
    {
     "data": {
      "text/plain": [
       "<AxesSubplot:>"
      ]
     },
     "execution_count": 45,
     "metadata": {},
     "output_type": "execute_result"
    },
    {
     "data": {
      "image/png": "[encoded data removed]",
      "text/plain": [
       "<Figure size 720x576 with 2 Axes>"
      ]
     },
     "metadata": {
      "needs_background": "light"
     },
     "output_type": "display_data"
    }
   ],
   "source": [
    "plt.figure(figsize=(10,8))\n",
    "sns.heatmap(scores, annot=True, xticklabels=[2,3,4,5],yticklabels=[50,100,120,150])"
   ]
  },
  {
   "cell_type": "code",
   "execution_count": 63,
   "metadata": {},
   "outputs": [],
   "source": [
    "m_CO = GradientBoostingRegressor(max_depth=5, n_estimators=150, learning_rate=0.09).fit(X_train,yCO_train)\n",
    "res_features = m_CO.feature_importances_"
   ]
  },
  {
   "cell_type": "code",
   "execution_count": 47,
   "metadata": {},
   "outputs": [
    {
     "data": {
      "text/plain": [
       "Text(0.5, 0, 'Feature Importance')"
      ]
     },
     "execution_count": 47,
     "metadata": {},
     "output_type": "execute_result"
    },
    {
     "data": {
      "image/png": "[encoded data removed]",
      "text/plain": [
       "<Figure size 720x576 with 1 Axes>"
      ]
     },
     "metadata": {
      "needs_background": "light"
     },
     "output_type": "display_data"
    }
   ],
   "source": [
    "plt.figure(figsize=(10,8))\n",
    "plt.barh(np.arange(X_train.shape[1]), res_features, align='center')\n",
    "plt.yticks(np.arange(X_train.shape[1]), X_train.columns)\n",
    "plt.ylabel('Feature')\n",
    "plt.xlabel('Feature Importance')"
   ]
  },
  {
   "cell_type": "code",
   "execution_count": 64,
   "metadata": {},
   "outputs": [
    {
     "name": "stdout",
     "output_type": "stream",
     "text": [
      "MSE: 0.15148708122058457\n"
     ]
    }
   ],
   "source": [
    "pred_CO = m_CO.predict(X_test)\n",
    "print('MSE: {}'.format(mean_squared_error(pred_CO,yCO_test)))"
   ]
  },
  {
   "cell_type": "markdown",
   "metadata": {},
   "source": [
    "## Benzene"
   ]
  },
  {
   "cell_type": "code",
   "execution_count": 65,
   "metadata": {},
   "outputs": [],
   "source": [
    "param_grid = {'n_estimators':[100,120,150,200],\n",
    "              'max_depth':[ 2, 3, 4 ,5]\n",
    "             \n",
    "             }\n",
    "m2 = GridSearchCV(GradientBoostingRegressor(), param_grid, cv = 5, return_train_score=True)"
   ]
  },
  {
   "cell_type": "code",
   "execution_count": 66,
   "metadata": {},
   "outputs": [
    {
     "data": {
      "text/plain": [
       "GridSearchCV(cv=5, estimator=GradientBoostingRegressor(),\n",
       "             param_grid={'max_depth': [2, 3, 4, 5],\n",
       "                         'n_estimators': [100, 120, 150, 200]},\n",
       "             return_train_score=True)"
      ]
     },
     "execution_count": 66,
     "metadata": {},
     "output_type": "execute_result"
    }
   ],
   "source": [
    "m2.fit(X_train,yB_train)"
   ]
  },
  {
   "cell_type": "code",
   "execution_count": 68,
   "metadata": {},
   "outputs": [
    {
     "data": {
      "text/plain": [
       "0.9769093124091628"
      ]
     },
     "execution_count": 68,
     "metadata": {},
     "output_type": "execute_result"
    }
   ],
   "source": [
    "m2.best_score_"
   ]
  },
  {
   "cell_type": "code",
   "execution_count": 69,
   "metadata": {},
   "outputs": [
    {
     "data": {
      "text/plain": [
       "GradientBoostingRegressor(max_depth=4, n_estimators=200)"
      ]
     },
     "execution_count": 69,
     "metadata": {},
     "output_type": "execute_result"
    }
   ],
   "source": [
    "m2.best_estimator_"
   ]
  },
  {
   "cell_type": "code",
   "execution_count": 70,
   "metadata": {},
   "outputs": [
    {
     "data": {
      "text/html": [
       "<div>\n",
       "<style scoped>\n",
       "    .dataframe tbody tr th:only-of-type {\n",
       "        vertical-align: middle;\n",
       "    }\n",
       "\n",
       "    .dataframe tbody tr th {\n",
       "        vertical-align: top;\n",
       "    }\n",
       "\n",
       "    .dataframe thead th {\n",
       "        text-align: right;\n",
       "    }\n",
       "</style>\n",
       "<table border=\"1\" class=\"dataframe\">\n",
       "  <thead>\n",
       "    <tr style=\"text-align: right;\">\n",
       "      <th></th>\n",
       "      <th>mean_fit_time</th>\n",
       "      <th>std_fit_time</th>\n",
       "      <th>mean_score_time</th>\n",
       "      <th>std_score_time</th>\n",
       "      <th>param_max_depth</th>\n",
       "      <th>param_n_estimators</th>\n",
       "      <th>params</th>\n",
       "      <th>split0_test_score</th>\n",
       "      <th>split1_test_score</th>\n",
       "      <th>split2_test_score</th>\n",
       "      <th>...</th>\n",
       "      <th>mean_test_score</th>\n",
       "      <th>std_test_score</th>\n",
       "      <th>rank_test_score</th>\n",
       "      <th>split0_train_score</th>\n",
       "      <th>split1_train_score</th>\n",
       "      <th>split2_train_score</th>\n",
       "      <th>split3_train_score</th>\n",
       "      <th>split4_train_score</th>\n",
       "      <th>mean_train_score</th>\n",
       "      <th>std_train_score</th>\n",
       "    </tr>\n",
       "  </thead>\n",
       "  <tbody>\n",
       "    <tr>\n",
       "      <th>0</th>\n",
       "      <td>0.706498</td>\n",
       "      <td>0.048162</td>\n",
       "      <td>0.002722</td>\n",
       "      <td>0.000266</td>\n",
       "      <td>2</td>\n",
       "      <td>100</td>\n",
       "      <td>{'max_depth': 2, 'n_estimators': 100}</td>\n",
       "      <td>0.974092</td>\n",
       "      <td>0.974303</td>\n",
       "      <td>0.975330</td>\n",
       "      <td>...</td>\n",
       "      <td>0.973676</td>\n",
       "      <td>0.001765</td>\n",
       "      <td>16</td>\n",
       "      <td>0.980501</td>\n",
       "      <td>0.980475</td>\n",
       "      <td>0.980244</td>\n",
       "      <td>0.980455</td>\n",
       "      <td>0.980285</td>\n",
       "      <td>0.980392</td>\n",
       "      <td>0.000106</td>\n",
       "    </tr>\n",
       "    <tr>\n",
       "      <th>1</th>\n",
       "      <td>0.876045</td>\n",
       "      <td>0.062963</td>\n",
       "      <td>0.002804</td>\n",
       "      <td>0.000287</td>\n",
       "      <td>2</td>\n",
       "      <td>120</td>\n",
       "      <td>{'max_depth': 2, 'n_estimators': 120}</td>\n",
       "      <td>0.974512</td>\n",
       "      <td>0.974559</td>\n",
       "      <td>0.975377</td>\n",
       "      <td>...</td>\n",
       "      <td>0.973963</td>\n",
       "      <td>0.001677</td>\n",
       "      <td>15</td>\n",
       "      <td>0.981134</td>\n",
       "      <td>0.981040</td>\n",
       "      <td>0.980905</td>\n",
       "      <td>0.981074</td>\n",
       "      <td>0.980902</td>\n",
       "      <td>0.981011</td>\n",
       "      <td>0.000093</td>\n",
       "    </tr>\n",
       "    <tr>\n",
       "      <th>2</th>\n",
       "      <td>1.063160</td>\n",
       "      <td>0.079736</td>\n",
       "      <td>0.003364</td>\n",
       "      <td>0.000420</td>\n",
       "      <td>2</td>\n",
       "      <td>150</td>\n",
       "      <td>{'max_depth': 2, 'n_estimators': 150}</td>\n",
       "      <td>0.974882</td>\n",
       "      <td>0.975293</td>\n",
       "      <td>0.976300</td>\n",
       "      <td>...</td>\n",
       "      <td>0.974516</td>\n",
       "      <td>0.001860</td>\n",
       "      <td>14</td>\n",
       "      <td>0.981871</td>\n",
       "      <td>0.981852</td>\n",
       "      <td>0.981747</td>\n",
       "      <td>0.981956</td>\n",
       "      <td>0.981687</td>\n",
       "      <td>0.981822</td>\n",
       "      <td>0.000095</td>\n",
       "    </tr>\n",
       "    <tr>\n",
       "      <th>3</th>\n",
       "      <td>1.458823</td>\n",
       "      <td>0.032896</td>\n",
       "      <td>0.003583</td>\n",
       "      <td>0.000291</td>\n",
       "      <td>2</td>\n",
       "      <td>200</td>\n",
       "      <td>{'max_depth': 2, 'n_estimators': 200}</td>\n",
       "      <td>0.975268</td>\n",
       "      <td>0.976074</td>\n",
       "      <td>0.976533</td>\n",
       "      <td>...</td>\n",
       "      <td>0.975062</td>\n",
       "      <td>0.001679</td>\n",
       "      <td>13</td>\n",
       "      <td>0.983076</td>\n",
       "      <td>0.983073</td>\n",
       "      <td>0.982906</td>\n",
       "      <td>0.983230</td>\n",
       "      <td>0.982773</td>\n",
       "      <td>0.983011</td>\n",
       "      <td>0.000157</td>\n",
       "    </tr>\n",
       "    <tr>\n",
       "      <th>4</th>\n",
       "      <td>1.104825</td>\n",
       "      <td>0.083904</td>\n",
       "      <td>0.003583</td>\n",
       "      <td>0.000254</td>\n",
       "      <td>3</td>\n",
       "      <td>100</td>\n",
       "      <td>{'max_depth': 3, 'n_estimators': 100}</td>\n",
       "      <td>0.975437</td>\n",
       "      <td>0.976275</td>\n",
       "      <td>0.976867</td>\n",
       "      <td>...</td>\n",
       "      <td>0.975514</td>\n",
       "      <td>0.001078</td>\n",
       "      <td>12</td>\n",
       "      <td>0.983960</td>\n",
       "      <td>0.984191</td>\n",
       "      <td>0.983892</td>\n",
       "      <td>0.984588</td>\n",
       "      <td>0.983981</td>\n",
       "      <td>0.984122</td>\n",
       "      <td>0.000253</td>\n",
       "    </tr>\n",
       "  </tbody>\n",
       "</table>\n",
       "<p>5 rows × 22 columns</p>\n",
       "</div>"
      ],
      "text/plain": [
       "   mean_fit_time  std_fit_time  mean_score_time  std_score_time  \\\n",
       "0       0.706498      0.048162         0.002722        0.000266   \n",
       "1       0.876045      0.062963         0.002804        0.000287   \n",
       "2       1.063160      0.079736         0.003364        0.000420   \n",
       "3       1.458823      0.032896         0.003583        0.000291   \n",
       "4       1.104825      0.083904         0.003583        0.000254   \n",
       "\n",
       "  param_max_depth param_n_estimators                                 params  \\\n",
       "0               2                100  {'max_depth': 2, 'n_estimators': 100}   \n",
       "1               2                120  {'max_depth': 2, 'n_estimators': 120}   \n",
       "2               2                150  {'max_depth': 2, 'n_estimators': 150}   \n",
       "3               2                200  {'max_depth': 2, 'n_estimators': 200}   \n",
       "4               3                100  {'max_depth': 3, 'n_estimators': 100}   \n",
       "\n",
       "   split0_test_score  split1_test_score  split2_test_score  ...  \\\n",
       "0           0.974092           0.974303           0.975330  ...   \n",
       "1           0.974512           0.974559           0.975377  ...   \n",
       "2           0.974882           0.975293           0.976300  ...   \n",
       "3           0.975268           0.976074           0.976533  ...   \n",
       "4           0.975437           0.976275           0.976867  ...   \n",
       "\n",
       "   mean_test_score  std_test_score  rank_test_score  split0_train_score  \\\n",
       "0         0.973676        0.001765               16            0.980501   \n",
       "1         0.973963        0.001677               15            0.981134   \n",
       "2         0.974516        0.001860               14            0.981871   \n",
       "3         0.975062        0.001679               13            0.983076   \n",
       "4         0.975514        0.001078               12            0.983960   \n",
       "\n",
       "   split1_train_score  split2_train_score  split3_train_score  \\\n",
       "0            0.980475            0.980244            0.980455   \n",
       "1            0.981040            0.980905            0.981074   \n",
       "2            0.981852            0.981747            0.981956   \n",
       "3            0.983073            0.982906            0.983230   \n",
       "4            0.984191            0.983892            0.984588   \n",
       "\n",
       "   split4_train_score  mean_train_score  std_train_score  \n",
       "0            0.980285          0.980392         0.000106  \n",
       "1            0.980902          0.981011         0.000093  \n",
       "2            0.981687          0.981822         0.000095  \n",
       "3            0.982773          0.983011         0.000157  \n",
       "4            0.983981          0.984122         0.000253  \n",
       "\n",
       "[5 rows x 22 columns]"
      ]
     },
     "execution_count": 70,
     "metadata": {},
     "output_type": "execute_result"
    }
   ],
   "source": [
    "results = pd.DataFrame(m2.cv_results_)\n",
    "results.head()"
   ]
  },
  {
   "cell_type": "code",
   "execution_count": 71,
   "metadata": {},
   "outputs": [
    {
     "data": {
      "text/plain": [
       "0     0.973676\n",
       "1     0.973963\n",
       "2     0.974516\n",
       "3     0.975062\n",
       "4     0.975514\n",
       "5     0.975822\n",
       "6     0.976180\n",
       "7     0.976408\n",
       "8     0.976381\n",
       "9     0.976738\n",
       "10    0.976839\n",
       "11    0.976909\n",
       "12    0.976436\n",
       "13    0.976713\n",
       "14    0.976661\n",
       "15    0.976517\n",
       "Name: mean_test_score, dtype: float64"
      ]
     },
     "metadata": {},
     "output_type": "display_data"
    }
   ],
   "source": [
    "#heatmap \n",
    "scores = np.array(results['mean_test_score']).reshape(4,4)\n",
    "display(results['mean_test_score'])"
   ]
  },
  {
   "cell_type": "code",
   "execution_count": 72,
   "metadata": {},
   "outputs": [
    {
     "data": {
      "text/plain": [
       "<AxesSubplot:>"
      ]
     },
     "execution_count": 72,
     "metadata": {},
     "output_type": "execute_result"
    },
    {
     "data": {
      "image/png": "[encoded data removed]",
      "text/plain": [
       "<Figure size 720x576 with 2 Axes>"
      ]
     },
     "metadata": {
      "needs_background": "light"
     },
     "output_type": "display_data"
    }
   ],
   "source": [
    "plt.figure(figsize=(10,8))\n",
    "sns.heatmap(scores, annot=True, xticklabels=[2,3,4,5],yticklabels=[100,120,150,200])"
   ]
  },
  {
   "cell_type": "code",
   "execution_count": 86,
   "metadata": {},
   "outputs": [],
   "source": [
    "m_B = GradientBoostingRegressor(max_depth=4, n_estimators=200, learning_rate=.12).fit(X_train,yB_train)\n",
    "res_features = m_B.feature_importances_"
   ]
  },
  {
   "cell_type": "code",
   "execution_count": 74,
   "metadata": {},
   "outputs": [
    {
     "data": {
      "text/plain": [
       "Text(0.5, 0, 'Feature Importance')"
      ]
     },
     "execution_count": 74,
     "metadata": {},
     "output_type": "execute_result"
    },
    {
     "data": {
      "image/png": "[encoded data removed]",
      "text/plain": [
       "<Figure size 720x576 with 1 Axes>"
      ]
     },
     "metadata": {
      "needs_background": "light"
     },
     "output_type": "display_data"
    }
   ],
   "source": [
    "plt.figure(figsize=(10,8))\n",
    "plt.barh(np.arange(X_train.shape[1]), res_features, align='center')\n",
    "plt.yticks(np.arange(X_train.shape[1]), X_train.columns)\n",
    "plt.ylabel('Feature')\n",
    "plt.xlabel('Feature Importance')"
   ]
  },
  {
   "cell_type": "code",
   "execution_count": 87,
   "metadata": {},
   "outputs": [
    {
     "name": "stdout",
     "output_type": "stream",
     "text": [
      "MSE: 1.3044749273125764\n"
     ]
    }
   ],
   "source": [
    "pred_B = m_B.predict(X_test)\n",
    "print('MSE: {}'.format(mean_squared_error(pred_B,yB_test)))"
   ]
  },
  {
   "cell_type": "markdown",
   "metadata": {},
   "source": [
    "## NO"
   ]
  },
  {
   "cell_type": "code",
   "execution_count": 107,
   "metadata": {},
   "outputs": [],
   "source": [
    "param_grid = {'n_estimators':[100,120,150,250],\n",
    "              'max_depth':[ 2, 3, 4 ,5]\n",
    "             \n",
    "             }\n",
    "m3 = GridSearchCV(GradientBoostingRegressor(), param_grid, cv = 5, return_train_score=True)"
   ]
  },
  {
   "cell_type": "code",
   "execution_count": 108,
   "metadata": {
    "scrolled": true
   },
   "outputs": [
    {
     "data": {
      "text/plain": [
       "GridSearchCV(cv=5, estimator=GradientBoostingRegressor(),\n",
       "             param_grid={'max_depth': [2, 3, 4, 5],\n",
       "                         'n_estimators': [100, 120, 150, 250]},\n",
       "             return_train_score=True)"
      ]
     },
     "execution_count": 108,
     "metadata": {},
     "output_type": "execute_result"
    }
   ],
   "source": [
    "m3.fit(X_train,yNO_train)"
   ]
  },
  {
   "cell_type": "code",
   "execution_count": 109,
   "metadata": {},
   "outputs": [
    {
     "data": {
      "text/plain": [
       "0.8605090954333617"
      ]
     },
     "execution_count": 109,
     "metadata": {},
     "output_type": "execute_result"
    }
   ],
   "source": [
    "m3.best_score_"
   ]
  },
  {
   "cell_type": "code",
   "execution_count": 110,
   "metadata": {},
   "outputs": [
    {
     "data": {
      "text/plain": [
       "GradientBoostingRegressor(max_depth=5, n_estimators=250)"
      ]
     },
     "execution_count": 110,
     "metadata": {},
     "output_type": "execute_result"
    }
   ],
   "source": [
    "m3.best_estimator_"
   ]
  },
  {
   "cell_type": "code",
   "execution_count": 111,
   "metadata": {},
   "outputs": [
    {
     "data": {
      "text/html": [
       "<div>\n",
       "<style scoped>\n",
       "    .dataframe tbody tr th:only-of-type {\n",
       "        vertical-align: middle;\n",
       "    }\n",
       "\n",
       "    .dataframe tbody tr th {\n",
       "        vertical-align: top;\n",
       "    }\n",
       "\n",
       "    .dataframe thead th {\n",
       "        text-align: right;\n",
       "    }\n",
       "</style>\n",
       "<table border=\"1\" class=\"dataframe\">\n",
       "  <thead>\n",
       "    <tr style=\"text-align: right;\">\n",
       "      <th></th>\n",
       "      <th>mean_fit_time</th>\n",
       "      <th>std_fit_time</th>\n",
       "      <th>mean_score_time</th>\n",
       "      <th>std_score_time</th>\n",
       "      <th>param_max_depth</th>\n",
       "      <th>param_n_estimators</th>\n",
       "      <th>params</th>\n",
       "      <th>split0_test_score</th>\n",
       "      <th>split1_test_score</th>\n",
       "      <th>split2_test_score</th>\n",
       "      <th>...</th>\n",
       "      <th>mean_test_score</th>\n",
       "      <th>std_test_score</th>\n",
       "      <th>rank_test_score</th>\n",
       "      <th>split0_train_score</th>\n",
       "      <th>split1_train_score</th>\n",
       "      <th>split2_train_score</th>\n",
       "      <th>split3_train_score</th>\n",
       "      <th>split4_train_score</th>\n",
       "      <th>mean_train_score</th>\n",
       "      <th>std_train_score</th>\n",
       "    </tr>\n",
       "  </thead>\n",
       "  <tbody>\n",
       "    <tr>\n",
       "      <th>0</th>\n",
       "      <td>0.786210</td>\n",
       "      <td>0.028589</td>\n",
       "      <td>0.003244</td>\n",
       "      <td>0.000234</td>\n",
       "      <td>2</td>\n",
       "      <td>100</td>\n",
       "      <td>{'max_depth': 2, 'n_estimators': 100}</td>\n",
       "      <td>0.786014</td>\n",
       "      <td>0.801148</td>\n",
       "      <td>0.776479</td>\n",
       "      <td>...</td>\n",
       "      <td>0.798042</td>\n",
       "      <td>0.016481</td>\n",
       "      <td>16</td>\n",
       "      <td>0.840517</td>\n",
       "      <td>0.838498</td>\n",
       "      <td>0.843457</td>\n",
       "      <td>0.836783</td>\n",
       "      <td>0.831487</td>\n",
       "      <td>0.838148</td>\n",
       "      <td>0.004004</td>\n",
       "    </tr>\n",
       "    <tr>\n",
       "      <th>1</th>\n",
       "      <td>0.796626</td>\n",
       "      <td>0.021478</td>\n",
       "      <td>0.002816</td>\n",
       "      <td>0.000262</td>\n",
       "      <td>2</td>\n",
       "      <td>120</td>\n",
       "      <td>{'max_depth': 2, 'n_estimators': 120}</td>\n",
       "      <td>0.791771</td>\n",
       "      <td>0.808504</td>\n",
       "      <td>0.779952</td>\n",
       "      <td>...</td>\n",
       "      <td>0.803781</td>\n",
       "      <td>0.016844</td>\n",
       "      <td>15</td>\n",
       "      <td>0.849016</td>\n",
       "      <td>0.849956</td>\n",
       "      <td>0.855518</td>\n",
       "      <td>0.846707</td>\n",
       "      <td>0.843136</td>\n",
       "      <td>0.848867</td>\n",
       "      <td>0.004073</td>\n",
       "    </tr>\n",
       "    <tr>\n",
       "      <th>2</th>\n",
       "      <td>1.111657</td>\n",
       "      <td>0.038914</td>\n",
       "      <td>0.003184</td>\n",
       "      <td>0.000186</td>\n",
       "      <td>2</td>\n",
       "      <td>150</td>\n",
       "      <td>{'max_depth': 2, 'n_estimators': 150}</td>\n",
       "      <td>0.799731</td>\n",
       "      <td>0.815289</td>\n",
       "      <td>0.787693</td>\n",
       "      <td>...</td>\n",
       "      <td>0.810976</td>\n",
       "      <td>0.016384</td>\n",
       "      <td>14</td>\n",
       "      <td>0.860801</td>\n",
       "      <td>0.861687</td>\n",
       "      <td>0.866813</td>\n",
       "      <td>0.858789</td>\n",
       "      <td>0.855484</td>\n",
       "      <td>0.860715</td>\n",
       "      <td>0.003721</td>\n",
       "    </tr>\n",
       "    <tr>\n",
       "      <th>3</th>\n",
       "      <td>1.923243</td>\n",
       "      <td>0.134261</td>\n",
       "      <td>0.004198</td>\n",
       "      <td>0.000183</td>\n",
       "      <td>2</td>\n",
       "      <td>250</td>\n",
       "      <td>{'max_depth': 2, 'n_estimators': 250}</td>\n",
       "      <td>0.817439</td>\n",
       "      <td>0.825970</td>\n",
       "      <td>0.796326</td>\n",
       "      <td>...</td>\n",
       "      <td>0.822767</td>\n",
       "      <td>0.015641</td>\n",
       "      <td>13</td>\n",
       "      <td>0.884372</td>\n",
       "      <td>0.885614</td>\n",
       "      <td>0.889597</td>\n",
       "      <td>0.884144</td>\n",
       "      <td>0.880768</td>\n",
       "      <td>0.884899</td>\n",
       "      <td>0.002846</td>\n",
       "    </tr>\n",
       "    <tr>\n",
       "      <th>4</th>\n",
       "      <td>1.036216</td>\n",
       "      <td>0.069111</td>\n",
       "      <td>0.003379</td>\n",
       "      <td>0.000474</td>\n",
       "      <td>3</td>\n",
       "      <td>100</td>\n",
       "      <td>{'max_depth': 3, 'n_estimators': 100}</td>\n",
       "      <td>0.817522</td>\n",
       "      <td>0.826682</td>\n",
       "      <td>0.806602</td>\n",
       "      <td>...</td>\n",
       "      <td>0.827769</td>\n",
       "      <td>0.018813</td>\n",
       "      <td>12</td>\n",
       "      <td>0.894994</td>\n",
       "      <td>0.892499</td>\n",
       "      <td>0.896857</td>\n",
       "      <td>0.893057</td>\n",
       "      <td>0.887726</td>\n",
       "      <td>0.893027</td>\n",
       "      <td>0.003063</td>\n",
       "    </tr>\n",
       "  </tbody>\n",
       "</table>\n",
       "<p>5 rows × 22 columns</p>\n",
       "</div>"
      ],
      "text/plain": [
       "   mean_fit_time  std_fit_time  mean_score_time  std_score_time  \\\n",
       "0       0.786210      0.028589         0.003244        0.000234   \n",
       "1       0.796626      0.021478         0.002816        0.000262   \n",
       "2       1.111657      0.038914         0.003184        0.000186   \n",
       "3       1.923243      0.134261         0.004198        0.000183   \n",
       "4       1.036216      0.069111         0.003379        0.000474   \n",
       "\n",
       "  param_max_depth param_n_estimators                                 params  \\\n",
       "0               2                100  {'max_depth': 2, 'n_estimators': 100}   \n",
       "1               2                120  {'max_depth': 2, 'n_estimators': 120}   \n",
       "2               2                150  {'max_depth': 2, 'n_estimators': 150}   \n",
       "3               2                250  {'max_depth': 2, 'n_estimators': 250}   \n",
       "4               3                100  {'max_depth': 3, 'n_estimators': 100}   \n",
       "\n",
       "   split0_test_score  split1_test_score  split2_test_score  ...  \\\n",
       "0           0.786014           0.801148           0.776479  ...   \n",
       "1           0.791771           0.808504           0.779952  ...   \n",
       "2           0.799731           0.815289           0.787693  ...   \n",
       "3           0.817439           0.825970           0.796326  ...   \n",
       "4           0.817522           0.826682           0.806602  ...   \n",
       "\n",
       "   mean_test_score  std_test_score  rank_test_score  split0_train_score  \\\n",
       "0         0.798042        0.016481               16            0.840517   \n",
       "1         0.803781        0.016844               15            0.849016   \n",
       "2         0.810976        0.016384               14            0.860801   \n",
       "3         0.822767        0.015641               13            0.884372   \n",
       "4         0.827769        0.018813               12            0.894994   \n",
       "\n",
       "   split1_train_score  split2_train_score  split3_train_score  \\\n",
       "0            0.838498            0.843457            0.836783   \n",
       "1            0.849956            0.855518            0.846707   \n",
       "2            0.861687            0.866813            0.858789   \n",
       "3            0.885614            0.889597            0.884144   \n",
       "4            0.892499            0.896857            0.893057   \n",
       "\n",
       "   split4_train_score  mean_train_score  std_train_score  \n",
       "0            0.831487          0.838148         0.004004  \n",
       "1            0.843136          0.848867         0.004073  \n",
       "2            0.855484          0.860715         0.003721  \n",
       "3            0.880768          0.884899         0.002846  \n",
       "4            0.887726          0.893027         0.003063  \n",
       "\n",
       "[5 rows x 22 columns]"
      ]
     },
     "execution_count": 111,
     "metadata": {},
     "output_type": "execute_result"
    }
   ],
   "source": [
    "results = pd.DataFrame(m3.cv_results_)\n",
    "results.head()"
   ]
  },
  {
   "cell_type": "code",
   "execution_count": 112,
   "metadata": {},
   "outputs": [
    {
     "data": {
      "text/plain": [
       "0     0.798042\n",
       "1     0.803781\n",
       "2     0.810976\n",
       "3     0.822767\n",
       "4     0.827769\n",
       "5     0.833642\n",
       "6     0.836453\n",
       "7     0.844695\n",
       "8     0.849888\n",
       "9     0.852817\n",
       "10    0.852943\n",
       "11    0.854861\n",
       "12    0.856485\n",
       "13    0.857963\n",
       "14    0.859117\n",
       "15    0.860509\n",
       "Name: mean_test_score, dtype: float64"
      ]
     },
     "metadata": {},
     "output_type": "display_data"
    }
   ],
   "source": [
    "#heatmap \n",
    "scores = np.array(results['mean_test_score']).reshape(4,4)\n",
    "display(results['mean_test_score'])"
   ]
  },
  {
   "cell_type": "code",
   "execution_count": 114,
   "metadata": {},
   "outputs": [
    {
     "data": {
      "text/plain": [
       "<AxesSubplot:>"
      ]
     },
     "execution_count": 114,
     "metadata": {},
     "output_type": "execute_result"
    },
    {
     "data": {
      "image/png": "[encoded data removed]",
      "text/plain": [
       "<Figure size 720x576 with 2 Axes>"
      ]
     },
     "metadata": {
      "needs_background": "light"
     },
     "output_type": "display_data"
    }
   ],
   "source": [
    "plt.figure(figsize=(10,8))\n",
    "sns.heatmap(scores, annot=True, xticklabels=[2,3,4,5],yticklabels=[100,120,150,200])"
   ]
  },
  {
   "cell_type": "code",
   "execution_count": 129,
   "metadata": {},
   "outputs": [],
   "source": [
    "m_NO = GradientBoostingRegressor(max_depth=5, n_estimators=250, learning_rate=0.1).fit(X_train,yNO_train)\n",
    "res_features = m_NO.feature_importances_"
   ]
  },
  {
   "cell_type": "code",
   "execution_count": 115,
   "metadata": {},
   "outputs": [
    {
     "data": {
      "text/plain": [
       "Text(0.5, 0, 'Feature Importance')"
      ]
     },
     "execution_count": 115,
     "metadata": {},
     "output_type": "execute_result"
    },
    {
     "data": {
      "image/png": "[encoded data removed]",
      "text/plain": [
       "<Figure size 720x576 with 1 Axes>"
      ]
     },
     "metadata": {
      "needs_background": "light"
     },
     "output_type": "display_data"
    }
   ],
   "source": [
    "plt.figure(figsize=(10,8))\n",
    "plt.barh(np.arange(X_train.shape[1]), res_features, align='center')\n",
    "plt.yticks(np.arange(X_train.shape[1]), X_train.columns)\n",
    "plt.ylabel('Feature')\n",
    "plt.xlabel('Feature Importance')"
   ]
  },
  {
   "cell_type": "code",
   "execution_count": 130,
   "metadata": {},
   "outputs": [
    {
     "name": "stdout",
     "output_type": "stream",
     "text": [
      "MSE: 4622.5024661156285\n"
     ]
    }
   ],
   "source": [
    "pred_NO = m_NO.predict(X_test)\n",
    "print('MSE: {}'.format(mean_squared_error(pred_NO,yNO_test)))"
   ]
  },
  {
   "cell_type": "markdown",
   "metadata": {},
   "source": [
    "# Model and Prediction"
   ]
  },
  {
   "cell_type": "code",
   "execution_count": 135,
   "metadata": {},
   "outputs": [],
   "source": [
    "X.drop(columns=['date_time'],inplace=True)\n",
    "XX.drop(columns=['date_time'],inplace=True)"
   ]
  },
  {
   "cell_type": "markdown",
   "metadata": {},
   "source": [
    "## CO"
   ]
  },
  {
   "cell_type": "code",
   "execution_count": 137,
   "metadata": {},
   "outputs": [
    {
     "data": {
      "text/plain": [
       "array([1.42211923, 1.28369394, 1.80512456, ..., 2.60415859, 1.94329665,\n",
       "       2.06157363])"
      ]
     },
     "metadata": {},
     "output_type": "display_data"
    }
   ],
   "source": [
    "model_CO = GradientBoostingRegressor(max_depth=5, n_estimators=150, learning_rate=0.09)\n",
    "model_CO.fit(X,y_CO)\n",
    "pred_CO = model_CO.predict(XX)\n",
    "pred_CO = np.clip(pred_CO,y_CO.min(),y_CO.max())\n",
    "\n",
    "display(pred_CO)"
   ]
  },
  {
   "cell_type": "markdown",
   "metadata": {},
   "source": [
    "# Benzene"
   ]
  },
  {
   "cell_type": "code",
   "execution_count": 138,
   "metadata": {},
   "outputs": [
    {
     "data": {
      "text/plain": [
       "array([ 5.03509491,  7.34706334,  7.45413986, ..., 12.97725324,\n",
       "       11.10224763, 12.47025054])"
      ]
     },
     "metadata": {},
     "output_type": "display_data"
    }
   ],
   "source": [
    "model_B = GradientBoostingRegressor(max_depth=4, n_estimators=200, learning_rate=.12)\n",
    "model_B.fit(X,y_B)\n",
    "pred_B = model_B.predict(XX)\n",
    "pred_B = np.clip(pred_B,y_B.min(),y_B.max())\n",
    "\n",
    "display(pred_B)"
   ]
  },
  {
   "cell_type": "markdown",
   "metadata": {},
   "source": [
    "# NO"
   ]
  },
  {
   "cell_type": "code",
   "execution_count": 139,
   "metadata": {},
   "outputs": [
    {
     "data": {
      "text/plain": [
       "array([231.66344597, 511.27842214, 351.79853369, ..., 295.62402456,\n",
       "       269.06186223, 238.67639705])"
      ]
     },
     "metadata": {},
     "output_type": "display_data"
    }
   ],
   "source": [
    "model_NO = GradientBoostingRegressor(max_depth=5, n_estimators=250, learning_rate=0.1)\n",
    "model_NO.fit(X,y_NO)\n",
    "pred_NO = model_NO.predict(XX)\n",
    "pred_NO = np.clip(pred_NO,y_NO.min(),y_NO.max())\n",
    "\n",
    "display(pred_NO)"
   ]
  },
  {
   "cell_type": "markdown",
   "metadata": {},
   "source": [
    "# Submission"
   ]
  },
  {
   "cell_type": "code",
   "execution_count": 141,
   "metadata": {},
   "outputs": [
    {
     "data": {
      "text/html": [
       "<div>\n",
       "<style scoped>\n",
       "    .dataframe tbody tr th:only-of-type {\n",
       "        vertical-align: middle;\n",
       "    }\n",
       "\n",
       "    .dataframe tbody tr th {\n",
       "        vertical-align: top;\n",
       "    }\n",
       "\n",
       "    .dataframe thead th {\n",
       "        text-align: right;\n",
       "    }\n",
       "</style>\n",
       "<table border=\"1\" class=\"dataframe\">\n",
       "  <thead>\n",
       "    <tr style=\"text-align: right;\">\n",
       "      <th></th>\n",
       "      <th>date_time</th>\n",
       "      <th>target_carbon_monoxide</th>\n",
       "      <th>target_benzene</th>\n",
       "      <th>target_nitrogen_oxides</th>\n",
       "    </tr>\n",
       "  </thead>\n",
       "  <tbody>\n",
       "    <tr>\n",
       "      <th>0</th>\n",
       "      <td>2011-01-01 00:00:00</td>\n",
       "      <td>2.0</td>\n",
       "      <td>10.0</td>\n",
       "      <td>300.0</td>\n",
       "    </tr>\n",
       "    <tr>\n",
       "      <th>1</th>\n",
       "      <td>2011-01-01 01:00:00</td>\n",
       "      <td>2.0</td>\n",
       "      <td>10.0</td>\n",
       "      <td>300.0</td>\n",
       "    </tr>\n",
       "    <tr>\n",
       "      <th>2</th>\n",
       "      <td>2011-01-01 02:00:00</td>\n",
       "      <td>2.0</td>\n",
       "      <td>10.0</td>\n",
       "      <td>300.0</td>\n",
       "    </tr>\n",
       "    <tr>\n",
       "      <th>3</th>\n",
       "      <td>2011-01-01 03:00:00</td>\n",
       "      <td>2.0</td>\n",
       "      <td>10.0</td>\n",
       "      <td>300.0</td>\n",
       "    </tr>\n",
       "    <tr>\n",
       "      <th>4</th>\n",
       "      <td>2011-01-01 04:00:00</td>\n",
       "      <td>2.0</td>\n",
       "      <td>10.0</td>\n",
       "      <td>300.0</td>\n",
       "    </tr>\n",
       "    <tr>\n",
       "      <th>...</th>\n",
       "      <td>...</td>\n",
       "      <td>...</td>\n",
       "      <td>...</td>\n",
       "      <td>...</td>\n",
       "    </tr>\n",
       "    <tr>\n",
       "      <th>2242</th>\n",
       "      <td>2011-04-04 10:00:00</td>\n",
       "      <td>2.0</td>\n",
       "      <td>10.0</td>\n",
       "      <td>300.0</td>\n",
       "    </tr>\n",
       "    <tr>\n",
       "      <th>2243</th>\n",
       "      <td>2011-04-04 11:00:00</td>\n",
       "      <td>2.0</td>\n",
       "      <td>10.0</td>\n",
       "      <td>300.0</td>\n",
       "    </tr>\n",
       "    <tr>\n",
       "      <th>2244</th>\n",
       "      <td>2011-04-04 12:00:00</td>\n",
       "      <td>2.0</td>\n",
       "      <td>10.0</td>\n",
       "      <td>300.0</td>\n",
       "    </tr>\n",
       "    <tr>\n",
       "      <th>2245</th>\n",
       "      <td>2011-04-04 13:00:00</td>\n",
       "      <td>2.0</td>\n",
       "      <td>10.0</td>\n",
       "      <td>300.0</td>\n",
       "    </tr>\n",
       "    <tr>\n",
       "      <th>2246</th>\n",
       "      <td>2011-04-04 14:00:00</td>\n",
       "      <td>2.0</td>\n",
       "      <td>10.0</td>\n",
       "      <td>300.0</td>\n",
       "    </tr>\n",
       "  </tbody>\n",
       "</table>\n",
       "<p>2247 rows × 4 columns</p>\n",
       "</div>"
      ],
      "text/plain": [
       "                date_time  target_carbon_monoxide  target_benzene  \\\n",
       "0     2011-01-01 00:00:00                     2.0            10.0   \n",
       "1     2011-01-01 01:00:00                     2.0            10.0   \n",
       "2     2011-01-01 02:00:00                     2.0            10.0   \n",
       "3     2011-01-01 03:00:00                     2.0            10.0   \n",
       "4     2011-01-01 04:00:00                     2.0            10.0   \n",
       "...                   ...                     ...             ...   \n",
       "2242  2011-04-04 10:00:00                     2.0            10.0   \n",
       "2243  2011-04-04 11:00:00                     2.0            10.0   \n",
       "2244  2011-04-04 12:00:00                     2.0            10.0   \n",
       "2245  2011-04-04 13:00:00                     2.0            10.0   \n",
       "2246  2011-04-04 14:00:00                     2.0            10.0   \n",
       "\n",
       "      target_nitrogen_oxides  \n",
       "0                      300.0  \n",
       "1                      300.0  \n",
       "2                      300.0  \n",
       "3                      300.0  \n",
       "4                      300.0  \n",
       "...                      ...  \n",
       "2242                   300.0  \n",
       "2243                   300.0  \n",
       "2244                   300.0  \n",
       "2245                   300.0  \n",
       "2246                   300.0  \n",
       "\n",
       "[2247 rows x 4 columns]"
      ]
     },
     "metadata": {},
     "output_type": "display_data"
    }
   ],
   "source": [
    "sub = pd.read_csv('./data/sample_submission.csv')\n",
    "display(sub)"
   ]
  },
  {
   "cell_type": "code",
   "execution_count": 143,
   "metadata": {},
   "outputs": [
    {
     "data": {
      "text/html": [
       "<div>\n",
       "<style scoped>\n",
       "    .dataframe tbody tr th:only-of-type {\n",
       "        vertical-align: middle;\n",
       "    }\n",
       "\n",
       "    .dataframe tbody tr th {\n",
       "        vertical-align: top;\n",
       "    }\n",
       "\n",
       "    .dataframe thead th {\n",
       "        text-align: right;\n",
       "    }\n",
       "</style>\n",
       "<table border=\"1\" class=\"dataframe\">\n",
       "  <thead>\n",
       "    <tr style=\"text-align: right;\">\n",
       "      <th></th>\n",
       "      <th>date_time</th>\n",
       "      <th>target_carbon_monoxide</th>\n",
       "      <th>target_benzene</th>\n",
       "      <th>target_nitrogen_oxides</th>\n",
       "    </tr>\n",
       "  </thead>\n",
       "  <tbody>\n",
       "    <tr>\n",
       "      <th>0</th>\n",
       "      <td>2011-01-01 00:00:00</td>\n",
       "      <td>1.422119</td>\n",
       "      <td>5.035095</td>\n",
       "      <td>231.663446</td>\n",
       "    </tr>\n",
       "    <tr>\n",
       "      <th>1</th>\n",
       "      <td>2011-01-01 01:00:00</td>\n",
       "      <td>1.283694</td>\n",
       "      <td>7.347063</td>\n",
       "      <td>511.278422</td>\n",
       "    </tr>\n",
       "    <tr>\n",
       "      <th>2</th>\n",
       "      <td>2011-01-01 02:00:00</td>\n",
       "      <td>1.805125</td>\n",
       "      <td>7.454140</td>\n",
       "      <td>351.798534</td>\n",
       "    </tr>\n",
       "    <tr>\n",
       "      <th>3</th>\n",
       "      <td>2011-01-01 03:00:00</td>\n",
       "      <td>1.894859</td>\n",
       "      <td>8.327356</td>\n",
       "      <td>365.931057</td>\n",
       "    </tr>\n",
       "    <tr>\n",
       "      <th>4</th>\n",
       "      <td>2011-01-01 04:00:00</td>\n",
       "      <td>1.290467</td>\n",
       "      <td>6.857750</td>\n",
       "      <td>235.565363</td>\n",
       "    </tr>\n",
       "    <tr>\n",
       "      <th>...</th>\n",
       "      <td>...</td>\n",
       "      <td>...</td>\n",
       "      <td>...</td>\n",
       "      <td>...</td>\n",
       "    </tr>\n",
       "    <tr>\n",
       "      <th>2242</th>\n",
       "      <td>2011-04-04 10:00:00</td>\n",
       "      <td>2.758663</td>\n",
       "      <td>14.229828</td>\n",
       "      <td>454.880386</td>\n",
       "    </tr>\n",
       "    <tr>\n",
       "      <th>2243</th>\n",
       "      <td>2011-04-04 11:00:00</td>\n",
       "      <td>2.427783</td>\n",
       "      <td>11.102929</td>\n",
       "      <td>357.440195</td>\n",
       "    </tr>\n",
       "    <tr>\n",
       "      <th>2244</th>\n",
       "      <td>2011-04-04 12:00:00</td>\n",
       "      <td>2.604159</td>\n",
       "      <td>12.977253</td>\n",
       "      <td>295.624025</td>\n",
       "    </tr>\n",
       "    <tr>\n",
       "      <th>2245</th>\n",
       "      <td>2011-04-04 13:00:00</td>\n",
       "      <td>1.943297</td>\n",
       "      <td>11.102248</td>\n",
       "      <td>269.061862</td>\n",
       "    </tr>\n",
       "    <tr>\n",
       "      <th>2246</th>\n",
       "      <td>2011-04-04 14:00:00</td>\n",
       "      <td>2.061574</td>\n",
       "      <td>12.470251</td>\n",
       "      <td>238.676397</td>\n",
       "    </tr>\n",
       "  </tbody>\n",
       "</table>\n",
       "<p>2247 rows × 4 columns</p>\n",
       "</div>"
      ],
      "text/plain": [
       "                date_time  target_carbon_monoxide  target_benzene  \\\n",
       "0     2011-01-01 00:00:00                1.422119        5.035095   \n",
       "1     2011-01-01 01:00:00                1.283694        7.347063   \n",
       "2     2011-01-01 02:00:00                1.805125        7.454140   \n",
       "3     2011-01-01 03:00:00                1.894859        8.327356   \n",
       "4     2011-01-01 04:00:00                1.290467        6.857750   \n",
       "...                   ...                     ...             ...   \n",
       "2242  2011-04-04 10:00:00                2.758663       14.229828   \n",
       "2243  2011-04-04 11:00:00                2.427783       11.102929   \n",
       "2244  2011-04-04 12:00:00                2.604159       12.977253   \n",
       "2245  2011-04-04 13:00:00                1.943297       11.102248   \n",
       "2246  2011-04-04 14:00:00                2.061574       12.470251   \n",
       "\n",
       "      target_nitrogen_oxides  \n",
       "0                 231.663446  \n",
       "1                 511.278422  \n",
       "2                 351.798534  \n",
       "3                 365.931057  \n",
       "4                 235.565363  \n",
       "...                      ...  \n",
       "2242              454.880386  \n",
       "2243              357.440195  \n",
       "2244              295.624025  \n",
       "2245              269.061862  \n",
       "2246              238.676397  \n",
       "\n",
       "[2247 rows x 4 columns]"
      ]
     },
     "metadata": {},
     "output_type": "display_data"
    }
   ],
   "source": [
    "sub_01 = sub.copy()\n",
    "\n",
    "sub_01['target_carbon_monoxide'] = pred_CO\n",
    "sub_01['target_benzene'] = pred_B\n",
    "sub_01['target_nitrogen_oxides'] = pred_NO\n",
    "\n",
    "display(sub_01)"
   ]
  },
  {
   "cell_type": "code",
   "execution_count": 147,
   "metadata": {},
   "outputs": [],
   "source": [
    "sub_01 = sub_01.set_index('date_time')"
   ]
  },
  {
   "cell_type": "code",
   "execution_count": 148,
   "metadata": {},
   "outputs": [],
   "source": [
    "#sub_01.to_csv('submission.csv')"
   ]
  },
  {
   "cell_type": "markdown",
   "metadata": {},
   "source": [
    "public score:0.27850"
   ]
  }
 ],
 "metadata": {
  "kernelspec": {
   "display_name": "Python 3",
   "language": "python",
   "name": "python3"
  },
  "language_info": {
   "codemirror_mode": {
    "name": "ipython",
    "version": 3
   },
   "file_extension": ".py",
   "mimetype": "text/x-python",
   "name": "python",
   "nbconvert_exporter": "python",
   "pygments_lexer": "ipython3",
   "version": "3.8.5"
  }
 },
 "nbformat": 4,
 "nbformat_minor": 4
}
